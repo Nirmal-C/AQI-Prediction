{
 "cells": [
  {
   "cell_type": "code",
   "execution_count": 1,
   "metadata": {
    "_cell_guid": "b1076dfc-b9ad-4769-8c92-a6c4dae69d19",
    "_uuid": "8f2839f25d086af736a60e9eeb907d3b93b6e0e5",
    "execution": {
     "iopub.execute_input": "2022-07-26T14:37:20.013813Z",
     "iopub.status.busy": "2022-07-26T14:37:20.013431Z",
     "iopub.status.idle": "2022-07-26T14:37:20.019240Z",
     "shell.execute_reply": "2022-07-26T14:37:20.018415Z",
     "shell.execute_reply.started": "2022-07-26T14:37:20.013784Z"
    }
   },
   "outputs": [],
   "source": [
    "import tensorflow as tf\n",
    "from tensorflow import keras \n",
    "import pandas as pd\n",
    "import numpy as np\n",
    "from matplotlib import pyplot as plt\n",
    "import seaborn as sns\n",
    "import os\n",
    "# os.environ[\"CUDA_VISIBLE_DEVICES\"] = \"-1\"\n",
    "\n",
    "import warnings\n",
    "warnings.simplefilter(\"ignore\")"
   ]
  },
  {
   "cell_type": "markdown",
   "metadata": {},
   "source": [
    "# # Data Set"
   ]
  },
  {
   "cell_type": "code",
   "execution_count": 16,
   "metadata": {},
   "outputs": [
    {
     "ename": "SyntaxError",
     "evalue": "invalid syntax. Perhaps you forgot a comma? (1779688567.py, line 96)",
     "output_type": "error",
     "traceback": [
      "\u001b[1;36m  Input \u001b[1;32mIn [16]\u001b[1;36m\u001b[0m\n\u001b[1;33m    id_de = bit_id.dot(2  np.arange(bit_id.size)[::-1])\u001b[0m\n\u001b[1;37m                       ^\u001b[0m\n\u001b[1;31mSyntaxError\u001b[0m\u001b[1;31m:\u001b[0m invalid syntax. Perhaps you forgot a comma?\n"
     ]
    }
   ],
   "source": []
  },
  {
   "cell_type": "code",
   "execution_count": 2,
   "metadata": {},
   "outputs": [
    {
     "name": "stdout",
     "output_type": "stream",
     "text": [
      "1 3\n",
      "3 5\n"
     ]
    }
   ],
   "source": [
    "numbers=[1,3,-6,5,-3]\n",
    "numbers.sort()\n",
    "output=[]\n",
    "import math\n",
    "min=math.inf\n",
    "for i in range(len(numbers)-1):\n",
    "    if numbers[i]<0 and numbers[i+1]>0:\n",
    "        dif=numbers[i+1]-numbers[i]\n",
    "    else:\n",
    "        dif=abs(numbers[i]-numbers[i+1])\n",
    "    if dif<min:\n",
    "        min=dif\n",
    "        output=[]\n",
    "        output.append((numbers[i],numbers[i+1]))\n",
    "    elif dif==min:\n",
    "        output.append((numbers[i],numbers[i+1]))\n",
    "\n",
    "for i,j in output:\n",
    "    print(i,j)\n",
    "        \n"
   ]
  },
  {
   "cell_type": "code",
   "execution_count": 3,
   "metadata": {
    "execution": {
     "iopub.execute_input": "2022-07-26T14:37:20.192610Z",
     "iopub.status.busy": "2022-07-26T14:37:20.191596Z",
     "iopub.status.idle": "2022-07-26T14:37:20.342195Z",
     "shell.execute_reply": "2022-07-26T14:37:20.340771Z",
     "shell.execute_reply.started": "2022-07-26T14:37:20.192572Z"
    }
   },
   "outputs": [],
   "source": [
    "station_day = pd.read_csv(\"./station_day.csv\")"
   ]
  },
  {
   "cell_type": "code",
   "execution_count": 4,
   "metadata": {
    "execution": {
     "iopub.execute_input": "2022-07-26T14:37:20.350614Z",
     "iopub.status.busy": "2022-07-26T14:37:20.350187Z",
     "iopub.status.idle": "2022-07-26T14:37:20.380505Z",
     "shell.execute_reply": "2022-07-26T14:37:20.379184Z",
     "shell.execute_reply.started": "2022-07-26T14:37:20.350579Z"
    }
   },
   "outputs": [
    {
     "data": {
      "text/html": [
       "<div>\n",
       "<style scoped>\n",
       "    .dataframe tbody tr th:only-of-type {\n",
       "        vertical-align: middle;\n",
       "    }\n",
       "\n",
       "    .dataframe tbody tr th {\n",
       "        vertical-align: top;\n",
       "    }\n",
       "\n",
       "    .dataframe thead th {\n",
       "        text-align: right;\n",
       "    }\n",
       "</style>\n",
       "<table border=\"1\" class=\"dataframe\">\n",
       "  <thead>\n",
       "    <tr style=\"text-align: right;\">\n",
       "      <th></th>\n",
       "      <th>StationId</th>\n",
       "      <th>Date</th>\n",
       "      <th>PM2.5</th>\n",
       "      <th>PM10</th>\n",
       "      <th>NO</th>\n",
       "      <th>NO2</th>\n",
       "      <th>NOx</th>\n",
       "      <th>NH3</th>\n",
       "      <th>CO</th>\n",
       "      <th>SO2</th>\n",
       "      <th>O3</th>\n",
       "      <th>Benzene</th>\n",
       "      <th>Toluene</th>\n",
       "      <th>Xylene</th>\n",
       "      <th>AQI</th>\n",
       "      <th>AQI_Bucket</th>\n",
       "    </tr>\n",
       "  </thead>\n",
       "  <tbody>\n",
       "    <tr>\n",
       "      <th>0</th>\n",
       "      <td>AP001</td>\n",
       "      <td>2017-11-24</td>\n",
       "      <td>71.36</td>\n",
       "      <td>115.75</td>\n",
       "      <td>1.75</td>\n",
       "      <td>20.65</td>\n",
       "      <td>12.40</td>\n",
       "      <td>12.19</td>\n",
       "      <td>0.10</td>\n",
       "      <td>10.76</td>\n",
       "      <td>109.26</td>\n",
       "      <td>0.17</td>\n",
       "      <td>5.92</td>\n",
       "      <td>0.10</td>\n",
       "      <td>NaN</td>\n",
       "      <td>NaN</td>\n",
       "    </tr>\n",
       "    <tr>\n",
       "      <th>1</th>\n",
       "      <td>AP001</td>\n",
       "      <td>2017-11-25</td>\n",
       "      <td>81.40</td>\n",
       "      <td>124.50</td>\n",
       "      <td>1.44</td>\n",
       "      <td>20.50</td>\n",
       "      <td>12.08</td>\n",
       "      <td>10.72</td>\n",
       "      <td>0.12</td>\n",
       "      <td>15.24</td>\n",
       "      <td>127.09</td>\n",
       "      <td>0.20</td>\n",
       "      <td>6.50</td>\n",
       "      <td>0.06</td>\n",
       "      <td>184.0</td>\n",
       "      <td>Moderate</td>\n",
       "    </tr>\n",
       "    <tr>\n",
       "      <th>2</th>\n",
       "      <td>AP001</td>\n",
       "      <td>2017-11-26</td>\n",
       "      <td>78.32</td>\n",
       "      <td>129.06</td>\n",
       "      <td>1.26</td>\n",
       "      <td>26.00</td>\n",
       "      <td>14.85</td>\n",
       "      <td>10.28</td>\n",
       "      <td>0.14</td>\n",
       "      <td>26.96</td>\n",
       "      <td>117.44</td>\n",
       "      <td>0.22</td>\n",
       "      <td>7.95</td>\n",
       "      <td>0.08</td>\n",
       "      <td>197.0</td>\n",
       "      <td>Moderate</td>\n",
       "    </tr>\n",
       "  </tbody>\n",
       "</table>\n",
       "</div>"
      ],
      "text/plain": [
       "  StationId        Date  PM2.5    PM10    NO    NO2    NOx    NH3    CO  \\\n",
       "0     AP001  2017-11-24  71.36  115.75  1.75  20.65  12.40  12.19  0.10   \n",
       "1     AP001  2017-11-25  81.40  124.50  1.44  20.50  12.08  10.72  0.12   \n",
       "2     AP001  2017-11-26  78.32  129.06  1.26  26.00  14.85  10.28  0.14   \n",
       "\n",
       "     SO2      O3  Benzene  Toluene  Xylene    AQI AQI_Bucket  \n",
       "0  10.76  109.26     0.17     5.92    0.10    NaN        NaN  \n",
       "1  15.24  127.09     0.20     6.50    0.06  184.0   Moderate  \n",
       "2  26.96  117.44     0.22     7.95    0.08  197.0   Moderate  "
      ]
     },
     "execution_count": 4,
     "metadata": {},
     "output_type": "execute_result"
    }
   ],
   "source": [
    "station_day.head(3)"
   ]
  },
  {
   "cell_type": "code",
   "execution_count": 5,
   "metadata": {
    "execution": {
     "iopub.execute_input": "2022-07-26T14:37:20.511819Z",
     "iopub.status.busy": "2022-07-26T14:37:20.511427Z",
     "iopub.status.idle": "2022-07-26T14:37:20.543337Z",
     "shell.execute_reply": "2022-07-26T14:37:20.541827Z",
     "shell.execute_reply.started": "2022-07-26T14:37:20.511788Z"
    }
   },
   "outputs": [
    {
     "name": "stdout",
     "output_type": "stream",
     "text": [
      "<class 'pandas.core.frame.DataFrame'>\n",
      "RangeIndex: 108035 entries, 0 to 108034\n",
      "Data columns (total 16 columns):\n",
      " #   Column      Non-Null Count   Dtype  \n",
      "---  ------      --------------   -----  \n",
      " 0   StationId   108035 non-null  object \n",
      " 1   Date        108035 non-null  object \n",
      " 2   PM2.5       86410 non-null   float64\n",
      " 3   PM10        65329 non-null   float64\n",
      " 4   NO          90929 non-null   float64\n",
      " 5   NO2         91488 non-null   float64\n",
      " 6   NOx         92535 non-null   float64\n",
      " 7   NH3         59930 non-null   float64\n",
      " 8   CO          95037 non-null   float64\n",
      " 9   SO2         82831 non-null   float64\n",
      " 10  O3          82467 non-null   float64\n",
      " 11  Benzene     76580 non-null   float64\n",
      " 12  Toluene     69333 non-null   float64\n",
      " 13  Xylene      22898 non-null   float64\n",
      " 14  AQI         87025 non-null   float64\n",
      " 15  AQI_Bucket  87025 non-null   object \n",
      "dtypes: float64(13), object(3)\n",
      "memory usage: 13.2+ MB\n"
     ]
    }
   ],
   "source": [
    "station_day.info()"
   ]
  },
  {
   "cell_type": "markdown",
   "metadata": {},
   "source": [
    "# --------------------------------------- ARIMA ---------------------------------------\n",
    "\n",
    "Arima model is a time series model . That means we can predcit how AQI change by time"
   ]
  },
  {
   "cell_type": "code",
   "execution_count": 6,
   "metadata": {
    "execution": {
     "iopub.execute_input": "2022-07-26T14:37:20.663800Z",
     "iopub.status.busy": "2022-07-26T14:37:20.663039Z",
     "iopub.status.idle": "2022-07-26T14:37:20.670657Z",
     "shell.execute_reply": "2022-07-26T14:37:20.669727Z",
     "shell.execute_reply.started": "2022-07-26T14:37:20.663762Z"
    }
   },
   "outputs": [],
   "source": [
    "arima_df = station_day[['Date','AQI']]"
   ]
  },
  {
   "cell_type": "code",
   "execution_count": 7,
   "metadata": {
    "execution": {
     "iopub.execute_input": "2022-07-26T14:37:20.823441Z",
     "iopub.status.busy": "2022-07-26T14:37:20.823084Z",
     "iopub.status.idle": "2022-07-26T14:37:20.846977Z",
     "shell.execute_reply": "2022-07-26T14:37:20.846019Z",
     "shell.execute_reply.started": "2022-07-26T14:37:20.823411Z"
    }
   },
   "outputs": [],
   "source": [
    "arima_df[\"Date\"]= pd.to_datetime(arima_df[\"Date\"])"
   ]
  },
  {
   "cell_type": "code",
   "execution_count": 8,
   "metadata": {
    "execution": {
     "iopub.execute_input": "2022-07-26T14:37:20.974055Z",
     "iopub.status.busy": "2022-07-26T14:37:20.973666Z",
     "iopub.status.idle": "2022-07-26T14:37:21.036684Z",
     "shell.execute_reply": "2022-07-26T14:37:21.035865Z",
     "shell.execute_reply.started": "2022-07-26T14:37:20.974024Z"
    }
   },
   "outputs": [],
   "source": [
    "arima_df.AQI = arima_df.groupby(pd.PeriodIndex(arima_df['Date'], freq=\"M\"))['AQI'].apply(lambda x: x.fillna(x.mean()))"
   ]
  },
  {
   "cell_type": "code",
   "execution_count": 9,
   "metadata": {
    "execution": {
     "iopub.execute_input": "2022-07-26T14:37:21.122312Z",
     "iopub.status.busy": "2022-07-26T14:37:21.121858Z",
     "iopub.status.idle": "2022-07-26T14:37:21.142416Z",
     "shell.execute_reply": "2022-07-26T14:37:21.141547Z",
     "shell.execute_reply.started": "2022-07-26T14:37:21.122278Z"
    }
   },
   "outputs": [],
   "source": [
    "ts = arima_df.groupby(pd.PeriodIndex(arima_df['Date'], freq=\"M\"))['AQI'].mean()"
   ]
  },
  {
   "cell_type": "code",
   "execution_count": 10,
   "metadata": {
    "execution": {
     "iopub.execute_input": "2022-07-26T14:37:21.274042Z",
     "iopub.status.busy": "2022-07-26T14:37:21.273604Z",
     "iopub.status.idle": "2022-07-26T14:37:21.573727Z",
     "shell.execute_reply": "2022-07-26T14:37:21.572518Z",
     "shell.execute_reply.started": "2022-07-26T14:37:21.274004Z"
    }
   },
   "outputs": [
    {
     "data": {
      "image/png": "[encoded data removed]",
      "text/plain": [
       "<Figure size 2160x720 with 1 Axes>"
      ]
     },
     "metadata": {
      "needs_background": "light"
     },
     "output_type": "display_data"
    }
   ],
   "source": [
    "plt.figure(figsize = (30,10))\n",
    "ts.plot()\n",
    "plt.show()"
   ]
  },
  {
   "cell_type": "markdown",
   "metadata": {},
   "source": [
    "**Doing adfuller test to identify the data set is stationay or not**"
   ]
  },
  {
   "cell_type": "code",
   "execution_count": 11,
   "metadata": {
    "execution": {
     "iopub.execute_input": "2022-07-26T14:37:21.576215Z",
     "iopub.status.busy": "2022-07-26T14:37:21.575750Z",
     "iopub.status.idle": "2022-07-26T14:37:21.591248Z",
     "shell.execute_reply": "2022-07-26T14:37:21.590254Z",
     "shell.execute_reply.started": "2022-07-26T14:37:21.576178Z"
    }
   },
   "outputs": [
    {
     "name": "stdout",
     "output_type": "stream",
     "text": [
      "ADF Statistic: -1.224505\n",
      "p-value: 0.662967\n"
     ]
    }
   ],
   "source": [
    "from statsmodels.tsa.stattools import adfuller\n",
    "from numpy import log\n",
    "result = adfuller(ts)\n",
    "print('ADF Statistic: %f' % result[0])\n",
    "print('p-value: %f' % result[1])"
   ]
  },
  {
   "cell_type": "code",
   "execution_count": 12,
   "metadata": {
    "execution": {
     "iopub.execute_input": "2022-07-26T14:37:21.593362Z",
     "iopub.status.busy": "2022-07-26T14:37:21.592568Z",
     "iopub.status.idle": "2022-07-26T14:37:21.598583Z",
     "shell.execute_reply": "2022-07-26T14:37:21.597502Z",
     "shell.execute_reply.started": "2022-07-26T14:37:21.593326Z"
    }
   },
   "outputs": [],
   "source": [
    "ts_train = ts[:50]\n",
    "ts_test = ts[50:]"
   ]
  },
  {
   "cell_type": "code",
   "execution_count": 13,
   "metadata": {
    "execution": {
     "iopub.execute_input": "2022-07-26T14:37:21.688800Z",
     "iopub.status.busy": "2022-07-26T14:37:21.688426Z",
     "iopub.status.idle": "2022-07-26T14:37:21.693209Z",
     "shell.execute_reply": "2022-07-26T14:37:21.692235Z",
     "shell.execute_reply.started": "2022-07-26T14:37:21.688770Z"
    }
   },
   "outputs": [],
   "source": [
    "from statsmodels.tsa.arima.model import ARIMA"
   ]
  },
  {
   "cell_type": "code",
   "execution_count": 14,
   "metadata": {
    "execution": {
     "iopub.execute_input": "2022-07-26T14:37:21.844105Z",
     "iopub.status.busy": "2022-07-26T14:37:21.842890Z",
     "iopub.status.idle": "2022-07-26T14:37:21.848500Z",
     "shell.execute_reply": "2022-07-26T14:37:21.847544Z",
     "shell.execute_reply.started": "2022-07-26T14:37:21.844067Z"
    }
   },
   "outputs": [],
   "source": [
    "import itertools\n",
    "from sklearn.metrics import mean_squared_error"
   ]
  },
  {
   "cell_type": "code",
   "execution_count": 15,
   "metadata": {
    "execution": {
     "iopub.execute_input": "2022-07-26T14:37:22.005453Z",
     "iopub.status.busy": "2022-07-26T14:37:22.005008Z",
     "iopub.status.idle": "2022-07-26T14:37:22.010928Z",
     "shell.execute_reply": "2022-07-26T14:37:22.009900Z",
     "shell.execute_reply.started": "2022-07-26T14:37:22.005418Z"
    }
   },
   "outputs": [],
   "source": [
    "p = range(0,8)\n",
    "q = range(0,8)\n",
    "d = range(0,2)"
   ]
  },
  {
   "cell_type": "code",
   "execution_count": 16,
   "metadata": {
    "execution": {
     "iopub.execute_input": "2022-07-26T14:37:22.138716Z",
     "iopub.status.busy": "2022-07-26T14:37:22.138132Z",
     "iopub.status.idle": "2022-07-26T14:37:22.143560Z",
     "shell.execute_reply": "2022-07-26T14:37:22.142290Z",
     "shell.execute_reply.started": "2022-07-26T14:37:22.138682Z"
    }
   },
   "outputs": [],
   "source": [
    "pqd_combination = list(itertools.product(p,d,q))"
   ]
  },
  {
   "cell_type": "code",
   "execution_count": 17,
   "metadata": {
    "execution": {
     "iopub.execute_input": "2022-07-26T14:37:22.291037Z",
     "iopub.status.busy": "2022-07-26T14:37:22.290444Z",
     "iopub.status.idle": "2022-07-26T14:37:22.295514Z",
     "shell.execute_reply": "2022-07-26T14:37:22.294237Z",
     "shell.execute_reply.started": "2022-07-26T14:37:22.291002Z"
    }
   },
   "outputs": [],
   "source": [
    "error = []\n",
    "pqd = []"
   ]
  },
  {
   "cell_type": "code",
   "execution_count": 18,
   "metadata": {
    "execution": {
     "iopub.execute_input": "2022-07-26T14:37:22.437183Z",
     "iopub.status.busy": "2022-07-26T14:37:22.436194Z",
     "iopub.status.idle": "2022-07-26T14:38:18.448552Z",
     "shell.execute_reply": "2022-07-26T14:38:18.447148Z",
     "shell.execute_reply.started": "2022-07-26T14:37:22.437146Z"
    }
   },
   "outputs": [
    {
     "name": "stderr",
     "output_type": "stream",
     "text": [
      "C:\\Users\\chath\\AppData\\Roaming\\Python\\Python310\\site-packages\\statsmodels\\base\\model.py:604: ConvergenceWarning: Maximum Likelihood optimization failed to converge. Check mle_retvals\n",
      "  warnings.warn(\"Maximum Likelihood optimization failed to \"\n",
      "C:\\Users\\chath\\AppData\\Roaming\\Python\\Python310\\site-packages\\statsmodels\\base\\model.py:604: ConvergenceWarning: Maximum Likelihood optimization failed to converge. Check mle_retvals\n",
      "  warnings.warn(\"Maximum Likelihood optimization failed to \"\n",
      "C:\\Users\\chath\\AppData\\Roaming\\Python\\Python310\\site-packages\\statsmodels\\base\\model.py:604: ConvergenceWarning: Maximum Likelihood optimization failed to converge. Check mle_retvals\n",
      "  warnings.warn(\"Maximum Likelihood optimization failed to \"\n",
      "C:\\Users\\chath\\AppData\\Roaming\\Python\\Python310\\site-packages\\statsmodels\\base\\model.py:604: ConvergenceWarning: Maximum Likelihood optimization failed to converge. Check mle_retvals\n",
      "  warnings.warn(\"Maximum Likelihood optimization failed to \"\n",
      "C:\\Users\\chath\\AppData\\Roaming\\Python\\Python310\\site-packages\\statsmodels\\base\\model.py:604: ConvergenceWarning: Maximum Likelihood optimization failed to converge. Check mle_retvals\n",
      "  warnings.warn(\"Maximum Likelihood optimization failed to \"\n",
      "C:\\Users\\chath\\AppData\\Roaming\\Python\\Python310\\site-packages\\statsmodels\\base\\model.py:604: ConvergenceWarning: Maximum Likelihood optimization failed to converge. Check mle_retvals\n",
      "  warnings.warn(\"Maximum Likelihood optimization failed to \"\n",
      "C:\\Users\\chath\\AppData\\Roaming\\Python\\Python310\\site-packages\\statsmodels\\base\\model.py:604: ConvergenceWarning: Maximum Likelihood optimization failed to converge. Check mle_retvals\n",
      "  warnings.warn(\"Maximum Likelihood optimization failed to \"\n",
      "C:\\Users\\chath\\AppData\\Roaming\\Python\\Python310\\site-packages\\statsmodels\\base\\model.py:604: ConvergenceWarning: Maximum Likelihood optimization failed to converge. Check mle_retvals\n",
      "  warnings.warn(\"Maximum Likelihood optimization failed to \"\n",
      "C:\\Users\\chath\\AppData\\Roaming\\Python\\Python310\\site-packages\\statsmodels\\base\\model.py:604: ConvergenceWarning: Maximum Likelihood optimization failed to converge. Check mle_retvals\n",
      "  warnings.warn(\"Maximum Likelihood optimization failed to \"\n",
      "C:\\Users\\chath\\AppData\\Roaming\\Python\\Python310\\site-packages\\statsmodels\\base\\model.py:604: ConvergenceWarning: Maximum Likelihood optimization failed to converge. Check mle_retvals\n",
      "  warnings.warn(\"Maximum Likelihood optimization failed to \"\n",
      "C:\\Users\\chath\\AppData\\Roaming\\Python\\Python310\\site-packages\\statsmodels\\base\\model.py:604: ConvergenceWarning: Maximum Likelihood optimization failed to converge. Check mle_retvals\n",
      "  warnings.warn(\"Maximum Likelihood optimization failed to \"\n",
      "C:\\Users\\chath\\AppData\\Roaming\\Python\\Python310\\site-packages\\statsmodels\\base\\model.py:604: ConvergenceWarning: Maximum Likelihood optimization failed to converge. Check mle_retvals\n",
      "  warnings.warn(\"Maximum Likelihood optimization failed to \"\n",
      "C:\\Users\\chath\\AppData\\Roaming\\Python\\Python310\\site-packages\\statsmodels\\base\\model.py:604: ConvergenceWarning: Maximum Likelihood optimization failed to converge. Check mle_retvals\n",
      "  warnings.warn(\"Maximum Likelihood optimization failed to \"\n",
      "C:\\Users\\chath\\AppData\\Roaming\\Python\\Python310\\site-packages\\statsmodels\\base\\model.py:604: ConvergenceWarning: Maximum Likelihood optimization failed to converge. Check mle_retvals\n",
      "  warnings.warn(\"Maximum Likelihood optimization failed to \"\n",
      "C:\\Users\\chath\\AppData\\Roaming\\Python\\Python310\\site-packages\\statsmodels\\base\\model.py:604: ConvergenceWarning: Maximum Likelihood optimization failed to converge. Check mle_retvals\n",
      "  warnings.warn(\"Maximum Likelihood optimization failed to \"\n",
      "C:\\Users\\chath\\AppData\\Roaming\\Python\\Python310\\site-packages\\statsmodels\\base\\model.py:604: ConvergenceWarning: Maximum Likelihood optimization failed to converge. Check mle_retvals\n",
      "  warnings.warn(\"Maximum Likelihood optimization failed to \"\n",
      "C:\\Users\\chath\\AppData\\Roaming\\Python\\Python310\\site-packages\\statsmodels\\base\\model.py:604: ConvergenceWarning: Maximum Likelihood optimization failed to converge. Check mle_retvals\n",
      "  warnings.warn(\"Maximum Likelihood optimization failed to \"\n",
      "C:\\Users\\chath\\AppData\\Roaming\\Python\\Python310\\site-packages\\statsmodels\\base\\model.py:604: ConvergenceWarning: Maximum Likelihood optimization failed to converge. Check mle_retvals\n",
      "  warnings.warn(\"Maximum Likelihood optimization failed to \"\n",
      "C:\\Users\\chath\\AppData\\Roaming\\Python\\Python310\\site-packages\\statsmodels\\base\\model.py:604: ConvergenceWarning: Maximum Likelihood optimization failed to converge. Check mle_retvals\n",
      "  warnings.warn(\"Maximum Likelihood optimization failed to \"\n",
      "C:\\Users\\chath\\AppData\\Roaming\\Python\\Python310\\site-packages\\statsmodels\\base\\model.py:604: ConvergenceWarning: Maximum Likelihood optimization failed to converge. Check mle_retvals\n",
      "  warnings.warn(\"Maximum Likelihood optimization failed to \"\n",
      "C:\\Users\\chath\\AppData\\Roaming\\Python\\Python310\\site-packages\\statsmodels\\base\\model.py:604: ConvergenceWarning: Maximum Likelihood optimization failed to converge. Check mle_retvals\n",
      "  warnings.warn(\"Maximum Likelihood optimization failed to \"\n",
      "C:\\Users\\chath\\AppData\\Roaming\\Python\\Python310\\site-packages\\statsmodels\\base\\model.py:604: ConvergenceWarning: Maximum Likelihood optimization failed to converge. Check mle_retvals\n",
      "  warnings.warn(\"Maximum Likelihood optimization failed to \"\n",
      "C:\\Users\\chath\\AppData\\Roaming\\Python\\Python310\\site-packages\\statsmodels\\base\\model.py:604: ConvergenceWarning: Maximum Likelihood optimization failed to converge. Check mle_retvals\n",
      "  warnings.warn(\"Maximum Likelihood optimization failed to \"\n",
      "C:\\Users\\chath\\AppData\\Roaming\\Python\\Python310\\site-packages\\statsmodels\\base\\model.py:604: ConvergenceWarning: Maximum Likelihood optimization failed to converge. Check mle_retvals\n",
      "  warnings.warn(\"Maximum Likelihood optimization failed to \"\n",
      "C:\\Users\\chath\\AppData\\Roaming\\Python\\Python310\\site-packages\\statsmodels\\base\\model.py:604: ConvergenceWarning: Maximum Likelihood optimization failed to converge. Check mle_retvals\n",
      "  warnings.warn(\"Maximum Likelihood optimization failed to \"\n",
      "C:\\Users\\chath\\AppData\\Roaming\\Python\\Python310\\site-packages\\statsmodels\\base\\model.py:604: ConvergenceWarning: Maximum Likelihood optimization failed to converge. Check mle_retvals\n",
      "  warnings.warn(\"Maximum Likelihood optimization failed to \"\n",
      "C:\\Users\\chath\\AppData\\Roaming\\Python\\Python310\\site-packages\\statsmodels\\base\\model.py:604: ConvergenceWarning: Maximum Likelihood optimization failed to converge. Check mle_retvals\n",
      "  warnings.warn(\"Maximum Likelihood optimization failed to \"\n",
      "C:\\Users\\chath\\AppData\\Roaming\\Python\\Python310\\site-packages\\statsmodels\\base\\model.py:604: ConvergenceWarning: Maximum Likelihood optimization failed to converge. Check mle_retvals\n",
      "  warnings.warn(\"Maximum Likelihood optimization failed to \"\n",
      "C:\\Users\\chath\\AppData\\Roaming\\Python\\Python310\\site-packages\\statsmodels\\base\\model.py:604: ConvergenceWarning: Maximum Likelihood optimization failed to converge. Check mle_retvals\n",
      "  warnings.warn(\"Maximum Likelihood optimization failed to \"\n",
      "C:\\Users\\chath\\AppData\\Roaming\\Python\\Python310\\site-packages\\statsmodels\\base\\model.py:604: ConvergenceWarning: Maximum Likelihood optimization failed to converge. Check mle_retvals\n",
      "  warnings.warn(\"Maximum Likelihood optimization failed to \"\n",
      "C:\\Users\\chath\\AppData\\Roaming\\Python\\Python310\\site-packages\\statsmodels\\base\\model.py:604: ConvergenceWarning: Maximum Likelihood optimization failed to converge. Check mle_retvals\n",
      "  warnings.warn(\"Maximum Likelihood optimization failed to \"\n",
      "C:\\Users\\chath\\AppData\\Roaming\\Python\\Python310\\site-packages\\statsmodels\\base\\model.py:604: ConvergenceWarning: Maximum Likelihood optimization failed to converge. Check mle_retvals\n",
      "  warnings.warn(\"Maximum Likelihood optimization failed to \"\n",
      "C:\\Users\\chath\\AppData\\Roaming\\Python\\Python310\\site-packages\\statsmodels\\base\\model.py:604: ConvergenceWarning: Maximum Likelihood optimization failed to converge. Check mle_retvals\n",
      "  warnings.warn(\"Maximum Likelihood optimization failed to \"\n",
      "C:\\Users\\chath\\AppData\\Roaming\\Python\\Python310\\site-packages\\statsmodels\\base\\model.py:604: ConvergenceWarning: Maximum Likelihood optimization failed to converge. Check mle_retvals\n",
      "  warnings.warn(\"Maximum Likelihood optimization failed to \"\n",
      "C:\\Users\\chath\\AppData\\Roaming\\Python\\Python310\\site-packages\\statsmodels\\base\\model.py:604: ConvergenceWarning: Maximum Likelihood optimization failed to converge. Check mle_retvals\n",
      "  warnings.warn(\"Maximum Likelihood optimization failed to \"\n",
      "C:\\Users\\chath\\AppData\\Roaming\\Python\\Python310\\site-packages\\statsmodels\\base\\model.py:604: ConvergenceWarning: Maximum Likelihood optimization failed to converge. Check mle_retvals\n",
      "  warnings.warn(\"Maximum Likelihood optimization failed to \"\n",
      "C:\\Users\\chath\\AppData\\Roaming\\Python\\Python310\\site-packages\\statsmodels\\base\\model.py:604: ConvergenceWarning: Maximum Likelihood optimization failed to converge. Check mle_retvals\n",
      "  warnings.warn(\"Maximum Likelihood optimization failed to \"\n",
      "C:\\Users\\chath\\AppData\\Roaming\\Python\\Python310\\site-packages\\statsmodels\\base\\model.py:604: ConvergenceWarning: Maximum Likelihood optimization failed to converge. Check mle_retvals\n",
      "  warnings.warn(\"Maximum Likelihood optimization failed to \"\n",
      "C:\\Users\\chath\\AppData\\Roaming\\Python\\Python310\\site-packages\\statsmodels\\base\\model.py:604: ConvergenceWarning: Maximum Likelihood optimization failed to converge. Check mle_retvals\n",
      "  warnings.warn(\"Maximum Likelihood optimization failed to \"\n",
      "C:\\Users\\chath\\AppData\\Roaming\\Python\\Python310\\site-packages\\statsmodels\\base\\model.py:604: ConvergenceWarning: Maximum Likelihood optimization failed to converge. Check mle_retvals\n",
      "  warnings.warn(\"Maximum Likelihood optimization failed to \"\n",
      "C:\\Users\\chath\\AppData\\Roaming\\Python\\Python310\\site-packages\\statsmodels\\base\\model.py:604: ConvergenceWarning: Maximum Likelihood optimization failed to converge. Check mle_retvals\n",
      "  warnings.warn(\"Maximum Likelihood optimization failed to \"\n",
      "C:\\Users\\chath\\AppData\\Roaming\\Python\\Python310\\site-packages\\statsmodels\\base\\model.py:604: ConvergenceWarning: Maximum Likelihood optimization failed to converge. Check mle_retvals\n",
      "  warnings.warn(\"Maximum Likelihood optimization failed to \"\n",
      "C:\\Users\\chath\\AppData\\Roaming\\Python\\Python310\\site-packages\\statsmodels\\base\\model.py:604: ConvergenceWarning: Maximum Likelihood optimization failed to converge. Check mle_retvals\n",
      "  warnings.warn(\"Maximum Likelihood optimization failed to \"\n",
      "C:\\Users\\chath\\AppData\\Roaming\\Python\\Python310\\site-packages\\statsmodels\\base\\model.py:604: ConvergenceWarning: Maximum Likelihood optimization failed to converge. Check mle_retvals\n",
      "  warnings.warn(\"Maximum Likelihood optimization failed to \"\n",
      "C:\\Users\\chath\\AppData\\Roaming\\Python\\Python310\\site-packages\\statsmodels\\base\\model.py:604: ConvergenceWarning: Maximum Likelihood optimization failed to converge. Check mle_retvals\n",
      "  warnings.warn(\"Maximum Likelihood optimization failed to \"\n",
      "C:\\Users\\chath\\AppData\\Roaming\\Python\\Python310\\site-packages\\statsmodels\\base\\model.py:604: ConvergenceWarning: Maximum Likelihood optimization failed to converge. Check mle_retvals\n",
      "  warnings.warn(\"Maximum Likelihood optimization failed to \"\n",
      "C:\\Users\\chath\\AppData\\Roaming\\Python\\Python310\\site-packages\\statsmodels\\base\\model.py:604: ConvergenceWarning: Maximum Likelihood optimization failed to converge. Check mle_retvals\n",
      "  warnings.warn(\"Maximum Likelihood optimization failed to \"\n",
      "C:\\Users\\chath\\AppData\\Roaming\\Python\\Python310\\site-packages\\statsmodels\\base\\model.py:604: ConvergenceWarning: Maximum Likelihood optimization failed to converge. Check mle_retvals\n",
      "  warnings.warn(\"Maximum Likelihood optimization failed to \"\n",
      "C:\\Users\\chath\\AppData\\Roaming\\Python\\Python310\\site-packages\\statsmodels\\base\\model.py:604: ConvergenceWarning: Maximum Likelihood optimization failed to converge. Check mle_retvals\n",
      "  warnings.warn(\"Maximum Likelihood optimization failed to \"\n",
      "C:\\Users\\chath\\AppData\\Roaming\\Python\\Python310\\site-packages\\statsmodels\\base\\model.py:604: ConvergenceWarning: Maximum Likelihood optimization failed to converge. Check mle_retvals\n",
      "  warnings.warn(\"Maximum Likelihood optimization failed to \"\n",
      "C:\\Users\\chath\\AppData\\Roaming\\Python\\Python310\\site-packages\\statsmodels\\base\\model.py:604: ConvergenceWarning: Maximum Likelihood optimization failed to converge. Check mle_retvals\n",
      "  warnings.warn(\"Maximum Likelihood optimization failed to \"\n",
      "C:\\Users\\chath\\AppData\\Roaming\\Python\\Python310\\site-packages\\statsmodels\\base\\model.py:604: ConvergenceWarning: Maximum Likelihood optimization failed to converge. Check mle_retvals\n",
      "  warnings.warn(\"Maximum Likelihood optimization failed to \"\n",
      "C:\\Users\\chath\\AppData\\Roaming\\Python\\Python310\\site-packages\\statsmodels\\base\\model.py:604: ConvergenceWarning: Maximum Likelihood optimization failed to converge. Check mle_retvals\n",
      "  warnings.warn(\"Maximum Likelihood optimization failed to \"\n",
      "C:\\Users\\chath\\AppData\\Roaming\\Python\\Python310\\site-packages\\statsmodels\\base\\model.py:604: ConvergenceWarning: Maximum Likelihood optimization failed to converge. Check mle_retvals\n",
      "  warnings.warn(\"Maximum Likelihood optimization failed to \"\n",
      "C:\\Users\\chath\\AppData\\Roaming\\Python\\Python310\\site-packages\\statsmodels\\base\\model.py:604: ConvergenceWarning: Maximum Likelihood optimization failed to converge. Check mle_retvals\n",
      "  warnings.warn(\"Maximum Likelihood optimization failed to \"\n",
      "C:\\Users\\chath\\AppData\\Roaming\\Python\\Python310\\site-packages\\statsmodels\\base\\model.py:604: ConvergenceWarning: Maximum Likelihood optimization failed to converge. Check mle_retvals\n",
      "  warnings.warn(\"Maximum Likelihood optimization failed to \"\n",
      "C:\\Users\\chath\\AppData\\Roaming\\Python\\Python310\\site-packages\\statsmodels\\base\\model.py:604: ConvergenceWarning: Maximum Likelihood optimization failed to converge. Check mle_retvals\n",
      "  warnings.warn(\"Maximum Likelihood optimization failed to \"\n",
      "C:\\Users\\chath\\AppData\\Roaming\\Python\\Python310\\site-packages\\statsmodels\\base\\model.py:604: ConvergenceWarning: Maximum Likelihood optimization failed to converge. Check mle_retvals\n",
      "  warnings.warn(\"Maximum Likelihood optimization failed to \"\n",
      "C:\\Users\\chath\\AppData\\Roaming\\Python\\Python310\\site-packages\\statsmodels\\base\\model.py:604: ConvergenceWarning: Maximum Likelihood optimization failed to converge. Check mle_retvals\n",
      "  warnings.warn(\"Maximum Likelihood optimization failed to \"\n",
      "C:\\Users\\chath\\AppData\\Roaming\\Python\\Python310\\site-packages\\statsmodels\\base\\model.py:604: ConvergenceWarning: Maximum Likelihood optimization failed to converge. Check mle_retvals\n",
      "  warnings.warn(\"Maximum Likelihood optimization failed to \"\n",
      "C:\\Users\\chath\\AppData\\Roaming\\Python\\Python310\\site-packages\\statsmodels\\base\\model.py:604: ConvergenceWarning: Maximum Likelihood optimization failed to converge. Check mle_retvals\n",
      "  warnings.warn(\"Maximum Likelihood optimization failed to \"\n",
      "C:\\Users\\chath\\AppData\\Roaming\\Python\\Python310\\site-packages\\statsmodels\\base\\model.py:604: ConvergenceWarning: Maximum Likelihood optimization failed to converge. Check mle_retvals\n",
      "  warnings.warn(\"Maximum Likelihood optimization failed to \"\n",
      "C:\\Users\\chath\\AppData\\Roaming\\Python\\Python310\\site-packages\\statsmodels\\base\\model.py:604: ConvergenceWarning: Maximum Likelihood optimization failed to converge. Check mle_retvals\n",
      "  warnings.warn(\"Maximum Likelihood optimization failed to \"\n",
      "C:\\Users\\chath\\AppData\\Roaming\\Python\\Python310\\site-packages\\statsmodels\\base\\model.py:604: ConvergenceWarning: Maximum Likelihood optimization failed to converge. Check mle_retvals\n",
      "  warnings.warn(\"Maximum Likelihood optimization failed to \"\n",
      "C:\\Users\\chath\\AppData\\Roaming\\Python\\Python310\\site-packages\\statsmodels\\base\\model.py:604: ConvergenceWarning: Maximum Likelihood optimization failed to converge. Check mle_retvals\n",
      "  warnings.warn(\"Maximum Likelihood optimization failed to \"\n",
      "C:\\Users\\chath\\AppData\\Roaming\\Python\\Python310\\site-packages\\statsmodels\\base\\model.py:604: ConvergenceWarning: Maximum Likelihood optimization failed to converge. Check mle_retvals\n",
      "  warnings.warn(\"Maximum Likelihood optimization failed to \"\n",
      "C:\\Users\\chath\\AppData\\Roaming\\Python\\Python310\\site-packages\\statsmodels\\base\\model.py:604: ConvergenceWarning: Maximum Likelihood optimization failed to converge. Check mle_retvals\n",
      "  warnings.warn(\"Maximum Likelihood optimization failed to \"\n",
      "C:\\Users\\chath\\AppData\\Roaming\\Python\\Python310\\site-packages\\statsmodels\\base\\model.py:604: ConvergenceWarning: Maximum Likelihood optimization failed to converge. Check mle_retvals\n",
      "  warnings.warn(\"Maximum Likelihood optimization failed to \"\n",
      "C:\\Users\\chath\\AppData\\Roaming\\Python\\Python310\\site-packages\\statsmodels\\base\\model.py:604: ConvergenceWarning: Maximum Likelihood optimization failed to converge. Check mle_retvals\n",
      "  warnings.warn(\"Maximum Likelihood optimization failed to \"\n",
      "C:\\Users\\chath\\AppData\\Roaming\\Python\\Python310\\site-packages\\statsmodels\\base\\model.py:604: ConvergenceWarning: Maximum Likelihood optimization failed to converge. Check mle_retvals\n",
      "  warnings.warn(\"Maximum Likelihood optimization failed to \"\n",
      "C:\\Users\\chath\\AppData\\Roaming\\Python\\Python310\\site-packages\\statsmodels\\base\\model.py:604: ConvergenceWarning: Maximum Likelihood optimization failed to converge. Check mle_retvals\n",
      "  warnings.warn(\"Maximum Likelihood optimization failed to \"\n"
     ]
    }
   ],
   "source": [
    "for i in pqd_combination:\n",
    "    A_model = ARIMA(ts_train,order= i).fit()\n",
    "    predict = A_model.predict(len(ts_train),len(ts)-1)\n",
    "    e = np.sqrt(mean_squared_error(ts_test,predict))\n",
    "    pqd.append(i)\n",
    "    error.append(e)"
   ]
  },
  {
   "cell_type": "code",
   "execution_count": 19,
   "metadata": {
    "execution": {
     "iopub.execute_input": "2022-07-26T14:38:18.451786Z",
     "iopub.status.busy": "2022-07-26T14:38:18.450955Z",
     "iopub.status.idle": "2022-07-26T14:38:18.460441Z",
     "shell.execute_reply": "2022-07-26T14:38:18.459252Z",
     "shell.execute_reply.started": "2022-07-26T14:38:18.451741Z"
    }
   },
   "outputs": [
    {
     "name": "stdout",
     "output_type": "stream",
     "text": [
      "48.48382894994655  =>  (7, 1, 1)\n"
     ]
    }
   ],
   "source": [
    "min = error[0]\n",
    "index = 0\n",
    "for i in range(1,len(error)-1):\n",
    "    if(min > error[i]):\n",
    "        min = error[i]\n",
    "        index = i\n",
    "        \n",
    "print(error[index],' => ',pqd[index])"
   ]
  },
  {
   "cell_type": "code",
   "execution_count": 20,
   "metadata": {
    "execution": {
     "iopub.execute_input": "2022-07-26T14:38:18.463130Z",
     "iopub.status.busy": "2022-07-26T14:38:18.462341Z",
     "iopub.status.idle": "2022-07-26T14:38:18.829351Z",
     "shell.execute_reply": "2022-07-26T14:38:18.828140Z",
     "shell.execute_reply.started": "2022-07-26T14:38:18.463087Z"
    }
   },
   "outputs": [
    {
     "name": "stdout",
     "output_type": "stream",
     "text": [
      "                               SARIMAX Results                                \n",
      "==============================================================================\n",
      "Dep. Variable:                    AQI   No. Observations:                   50\n",
      "Model:                 ARIMA(7, 1, 1)   Log Likelihood                -241.966\n",
      "Date:                Wed, 26 Oct 2022   AIC                            501.931\n",
      "Time:                        11:20:37   BIC                            518.957\n",
      "Sample:                    01-31-2015   HQIC                           508.391\n",
      "                         - 02-28-2019                                         \n",
      "Covariance Type:                  opg                                         \n",
      "==============================================================================\n",
      "                 coef    std err          z      P>|z|      [0.025      0.975]\n",
      "------------------------------------------------------------------------------\n",
      "ar.L1          0.7066      0.217      3.257      0.001       0.281       1.132\n",
      "ar.L2         -0.2553      0.247     -1.036      0.300      -0.739       0.228\n",
      "ar.L3         -0.1310      0.188     -0.697      0.486      -0.500       0.238\n",
      "ar.L4         -0.4079      0.174     -2.345      0.019      -0.749      -0.067\n",
      "ar.L5          0.1395      0.262      0.532      0.595      -0.375       0.654\n",
      "ar.L6          0.0584      0.210      0.278      0.781      -0.353       0.470\n",
      "ar.L7         -0.4805      0.163     -2.948      0.003      -0.800      -0.161\n",
      "ma.L1         -0.7496      0.158     -4.737      0.000      -1.060      -0.439\n",
      "sigma2      1028.7477    252.986      4.066      0.000     532.904    1524.591\n",
      "===================================================================================\n",
      "Ljung-Box (L1) (Q):                   1.47   Jarque-Bera (JB):                 0.50\n",
      "Prob(Q):                              0.22   Prob(JB):                         0.78\n",
      "Heteroskedasticity (H):               0.93   Skew:                            -0.20\n",
      "Prob(H) (two-sided):                  0.89   Kurtosis:                         2.72\n",
      "===================================================================================\n",
      "\n",
      "Warnings:\n",
      "[1] Covariance matrix calculated using the outer product of gradients (complex-step).\n"
     ]
    }
   ],
   "source": [
    "model_ts = ARIMA(ts_train, order=pqd[index])\n",
    "model_ts_fit = model_ts.fit()\n",
    "print(model_ts_fit.summary())"
   ]
  },
  {
   "cell_type": "code",
   "execution_count": 21,
   "metadata": {
    "execution": {
     "iopub.execute_input": "2022-07-26T14:38:18.833345Z",
     "iopub.status.busy": "2022-07-26T14:38:18.832522Z",
     "iopub.status.idle": "2022-07-26T14:38:18.845281Z",
     "shell.execute_reply": "2022-07-26T14:38:18.843622Z",
     "shell.execute_reply.started": "2022-07-26T14:38:18.833302Z"
    }
   },
   "outputs": [],
   "source": [
    "arima_predict = model_ts_fit.predict(start = len(ts_train),end = len(ts))"
   ]
  },
  {
   "cell_type": "code",
   "execution_count": 22,
   "metadata": {
    "execution": {
     "iopub.execute_input": "2022-07-26T14:38:18.848593Z",
     "iopub.status.busy": "2022-07-26T14:38:18.847492Z",
     "iopub.status.idle": "2022-07-26T14:38:19.217271Z",
     "shell.execute_reply": "2022-07-26T14:38:19.216357Z",
     "shell.execute_reply.started": "2022-07-26T14:38:18.848547Z"
    }
   },
   "outputs": [
    {
     "data": {
      "image/png": "[encoded data removed]",
      "text/plain": [
       "<Figure size 2160x720 with 1 Axes>"
      ]
     },
     "metadata": {
      "needs_background": "light"
     },
     "output_type": "display_data"
    }
   ],
   "source": [
    "plt.figure(figsize = (30,10))\n",
    "ts_test.plot(label = \"Test\")\n",
    "ts_train.plot(label = \"Train\")\n",
    "predict.plot(label = 'Predict')\n",
    "plt.legend()\n",
    "plt.show()"
   ]
  },
  {
   "cell_type": "markdown",
   "metadata": {},
   "source": [
    "# ------------------------------- SARIM -------------------------------"
   ]
  },
  {
   "cell_type": "code",
   "execution_count": 23,
   "metadata": {
    "execution": {
     "iopub.execute_input": "2022-07-26T14:38:19.219483Z",
     "iopub.status.busy": "2022-07-26T14:38:19.218342Z",
     "iopub.status.idle": "2022-07-26T14:38:19.237682Z",
     "shell.execute_reply": "2022-07-26T14:38:19.236421Z",
     "shell.execute_reply.started": "2022-07-26T14:38:19.219446Z"
    }
   },
   "outputs": [
    {
     "name": "stdout",
     "output_type": "stream",
     "text": [
      "Results of Dickey-Fuller Test:\n",
      "Test Statistic                 -1.224505\n",
      "p-value                         0.662967\n",
      "#Lags Used                     10.000000\n",
      "Number of Observations Used    56.000000\n",
      "Critical Value (1%)            -3.552928\n",
      "Critical Value (5%)            -2.914731\n",
      "Critical Value (10%)           -2.595137\n",
      "dtype: float64\n"
     ]
    }
   ],
   "source": [
    "print ('Results of Dickey-Fuller Test:')\n",
    "dftest = adfuller(ts, autolag='AIC')\n",
    "dfoutput = pd.Series(dftest[0:4], index=['Test Statistic','p-value','#Lags Used','Number of Observations Used'])\n",
    "for key,value in dftest[4].items():\n",
    "    dfoutput['Critical Value (%s)'%key] = value\n",
    "print (dfoutput )"
   ]
  },
  {
   "cell_type": "markdown",
   "metadata": {},
   "source": [
    "*****This time series is not stationary. Because P > 0.05 .So we want to take first differntioal for series*****"
   ]
  },
  {
   "cell_type": "code",
   "execution_count": 24,
   "metadata": {
    "execution": {
     "iopub.execute_input": "2022-07-26T14:38:19.240361Z",
     "iopub.status.busy": "2022-07-26T14:38:19.239207Z",
     "iopub.status.idle": "2022-07-26T14:38:19.246657Z",
     "shell.execute_reply": "2022-07-26T14:38:19.245775Z",
     "shell.execute_reply.started": "2022-07-26T14:38:19.240314Z"
    }
   },
   "outputs": [],
   "source": [
    "df1_ts = ts - ts.shift(1)"
   ]
  },
  {
   "cell_type": "code",
   "execution_count": 25,
   "metadata": {
    "execution": {
     "iopub.execute_input": "2022-07-26T14:38:19.248406Z",
     "iopub.status.busy": "2022-07-26T14:38:19.247708Z",
     "iopub.status.idle": "2022-07-26T14:38:19.257589Z",
     "shell.execute_reply": "2022-07-26T14:38:19.256751Z",
     "shell.execute_reply.started": "2022-07-26T14:38:19.248376Z"
    }
   },
   "outputs": [],
   "source": [
    "df1_ts=df1_ts.dropna()"
   ]
  },
  {
   "cell_type": "code",
   "execution_count": 26,
   "metadata": {
    "execution": {
     "iopub.execute_input": "2022-07-26T14:38:19.259480Z",
     "iopub.status.busy": "2022-07-26T14:38:19.258902Z",
     "iopub.status.idle": "2022-07-26T14:38:19.281485Z",
     "shell.execute_reply": "2022-07-26T14:38:19.280376Z",
     "shell.execute_reply.started": "2022-07-26T14:38:19.259449Z"
    }
   },
   "outputs": [
    {
     "name": "stdout",
     "output_type": "stream",
     "text": [
      "Results of Dickey-Fuller Test:\n",
      "Test Statistic                -7.389944e+00\n",
      "p-value                        8.050075e-11\n",
      "#Lags Used                     9.000000e+00\n",
      "Number of Observations Used    5.600000e+01\n",
      "Critical Value (1%)           -3.552928e+00\n",
      "Critical Value (5%)           -2.914731e+00\n",
      "Critical Value (10%)          -2.595137e+00\n",
      "dtype: float64\n"
     ]
    }
   ],
   "source": [
    "print ('Results of Dickey-Fuller Test:')\n",
    "dftest = adfuller(df1_ts, autolag='AIC')\n",
    "dfoutput = pd.Series(dftest[0:4], index=['Test Statistic','p-value','#Lags Used','Number of Observations Used'])\n",
    "for key,value in dftest[4].items():\n",
    "    dfoutput['Critical Value (%s)'%key] = value\n",
    "print (dfoutput )"
   ]
  },
  {
   "cell_type": "code",
   "execution_count": 27,
   "metadata": {
    "execution": {
     "iopub.execute_input": "2022-07-26T14:38:19.286019Z",
     "iopub.status.busy": "2022-07-26T14:38:19.285611Z",
     "iopub.status.idle": "2022-07-26T14:38:19.564537Z",
     "shell.execute_reply": "2022-07-26T14:38:19.563616Z",
     "shell.execute_reply.started": "2022-07-26T14:38:19.285984Z"
    }
   },
   "outputs": [
    {
     "data": {
      "image/png": "[encoded data removed]",
      "text/plain": [
       "<Figure size 2160x720 with 1 Axes>"
      ]
     },
     "metadata": {
      "needs_background": "light"
     },
     "output_type": "display_data"
    }
   ],
   "source": [
    "plt.figure(figsize = (30,10))\n",
    "df1_ts.plot()\n",
    "plt.show()"
   ]
  },
  {
   "cell_type": "code",
   "execution_count": 28,
   "metadata": {
    "execution": {
     "iopub.execute_input": "2022-07-26T14:38:19.566461Z",
     "iopub.status.busy": "2022-07-26T14:38:19.565639Z",
     "iopub.status.idle": "2022-07-26T14:38:19.572185Z",
     "shell.execute_reply": "2022-07-26T14:38:19.570877Z",
     "shell.execute_reply.started": "2022-07-26T14:38:19.566425Z"
    }
   },
   "outputs": [],
   "source": [
    "df1_ts_train = df1_ts[:50]\n",
    "df1_ts_test = df1_ts[50:]"
   ]
  },
  {
   "cell_type": "code",
   "execution_count": 29,
   "metadata": {
    "execution": {
     "iopub.execute_input": "2022-07-26T14:38:19.574058Z",
     "iopub.status.busy": "2022-07-26T14:38:19.573642Z",
     "iopub.status.idle": "2022-07-26T14:38:19.581763Z",
     "shell.execute_reply": "2022-07-26T14:38:19.580976Z",
     "shell.execute_reply.started": "2022-07-26T14:38:19.574027Z"
    }
   },
   "outputs": [],
   "source": [
    "df_pdq = []\n",
    "df_error = []"
   ]
  },
  {
   "cell_type": "code",
   "execution_count": 30,
   "metadata": {
    "execution": {
     "iopub.execute_input": "2022-07-26T14:38:19.583847Z",
     "iopub.status.busy": "2022-07-26T14:38:19.583178Z",
     "iopub.status.idle": "2022-07-26T14:39:15.209336Z",
     "shell.execute_reply": "2022-07-26T14:39:15.207998Z",
     "shell.execute_reply.started": "2022-07-26T14:38:19.583804Z"
    }
   },
   "outputs": [
    {
     "name": "stderr",
     "output_type": "stream",
     "text": [
      "C:\\Users\\chath\\AppData\\Roaming\\Python\\Python310\\site-packages\\statsmodels\\base\\model.py:604: ConvergenceWarning: Maximum Likelihood optimization failed to converge. Check mle_retvals\n",
      "  warnings.warn(\"Maximum Likelihood optimization failed to \"\n",
      "C:\\Users\\chath\\AppData\\Roaming\\Python\\Python310\\site-packages\\statsmodels\\base\\model.py:604: ConvergenceWarning: Maximum Likelihood optimization failed to converge. Check mle_retvals\n",
      "  warnings.warn(\"Maximum Likelihood optimization failed to \"\n",
      "C:\\Users\\chath\\AppData\\Roaming\\Python\\Python310\\site-packages\\statsmodels\\base\\model.py:604: ConvergenceWarning: Maximum Likelihood optimization failed to converge. Check mle_retvals\n",
      "  warnings.warn(\"Maximum Likelihood optimization failed to \"\n",
      "C:\\Users\\chath\\AppData\\Roaming\\Python\\Python310\\site-packages\\statsmodels\\base\\model.py:604: ConvergenceWarning: Maximum Likelihood optimization failed to converge. Check mle_retvals\n",
      "  warnings.warn(\"Maximum Likelihood optimization failed to \"\n",
      "C:\\Users\\chath\\AppData\\Roaming\\Python\\Python310\\site-packages\\statsmodels\\base\\model.py:604: ConvergenceWarning: Maximum Likelihood optimization failed to converge. Check mle_retvals\n",
      "  warnings.warn(\"Maximum Likelihood optimization failed to \"\n",
      "C:\\Users\\chath\\AppData\\Roaming\\Python\\Python310\\site-packages\\statsmodels\\base\\model.py:604: ConvergenceWarning: Maximum Likelihood optimization failed to converge. Check mle_retvals\n",
      "  warnings.warn(\"Maximum Likelihood optimization failed to \"\n",
      "C:\\Users\\chath\\AppData\\Roaming\\Python\\Python310\\site-packages\\statsmodels\\base\\model.py:604: ConvergenceWarning: Maximum Likelihood optimization failed to converge. Check mle_retvals\n",
      "  warnings.warn(\"Maximum Likelihood optimization failed to \"\n",
      "C:\\Users\\chath\\AppData\\Roaming\\Python\\Python310\\site-packages\\statsmodels\\base\\model.py:604: ConvergenceWarning: Maximum Likelihood optimization failed to converge. Check mle_retvals\n",
      "  warnings.warn(\"Maximum Likelihood optimization failed to \"\n",
      "C:\\Users\\chath\\AppData\\Roaming\\Python\\Python310\\site-packages\\statsmodels\\base\\model.py:604: ConvergenceWarning: Maximum Likelihood optimization failed to converge. Check mle_retvals\n",
      "  warnings.warn(\"Maximum Likelihood optimization failed to \"\n",
      "C:\\Users\\chath\\AppData\\Roaming\\Python\\Python310\\site-packages\\statsmodels\\base\\model.py:604: ConvergenceWarning: Maximum Likelihood optimization failed to converge. Check mle_retvals\n",
      "  warnings.warn(\"Maximum Likelihood optimization failed to \"\n",
      "C:\\Users\\chath\\AppData\\Roaming\\Python\\Python310\\site-packages\\statsmodels\\base\\model.py:604: ConvergenceWarning: Maximum Likelihood optimization failed to converge. Check mle_retvals\n",
      "  warnings.warn(\"Maximum Likelihood optimization failed to \"\n",
      "C:\\Users\\chath\\AppData\\Roaming\\Python\\Python310\\site-packages\\statsmodels\\base\\model.py:604: ConvergenceWarning: Maximum Likelihood optimization failed to converge. Check mle_retvals\n",
      "  warnings.warn(\"Maximum Likelihood optimization failed to \"\n",
      "C:\\Users\\chath\\AppData\\Roaming\\Python\\Python310\\site-packages\\statsmodels\\base\\model.py:604: ConvergenceWarning: Maximum Likelihood optimization failed to converge. Check mle_retvals\n",
      "  warnings.warn(\"Maximum Likelihood optimization failed to \"\n",
      "C:\\Users\\chath\\AppData\\Roaming\\Python\\Python310\\site-packages\\statsmodels\\base\\model.py:604: ConvergenceWarning: Maximum Likelihood optimization failed to converge. Check mle_retvals\n",
      "  warnings.warn(\"Maximum Likelihood optimization failed to \"\n",
      "C:\\Users\\chath\\AppData\\Roaming\\Python\\Python310\\site-packages\\statsmodels\\base\\model.py:604: ConvergenceWarning: Maximum Likelihood optimization failed to converge. Check mle_retvals\n",
      "  warnings.warn(\"Maximum Likelihood optimization failed to \"\n",
      "C:\\Users\\chath\\AppData\\Roaming\\Python\\Python310\\site-packages\\statsmodels\\base\\model.py:604: ConvergenceWarning: Maximum Likelihood optimization failed to converge. Check mle_retvals\n",
      "  warnings.warn(\"Maximum Likelihood optimization failed to \"\n",
      "C:\\Users\\chath\\AppData\\Roaming\\Python\\Python310\\site-packages\\statsmodels\\base\\model.py:604: ConvergenceWarning: Maximum Likelihood optimization failed to converge. Check mle_retvals\n",
      "  warnings.warn(\"Maximum Likelihood optimization failed to \"\n",
      "C:\\Users\\chath\\AppData\\Roaming\\Python\\Python310\\site-packages\\statsmodels\\base\\model.py:604: ConvergenceWarning: Maximum Likelihood optimization failed to converge. Check mle_retvals\n",
      "  warnings.warn(\"Maximum Likelihood optimization failed to \"\n",
      "C:\\Users\\chath\\AppData\\Roaming\\Python\\Python310\\site-packages\\statsmodels\\base\\model.py:604: ConvergenceWarning: Maximum Likelihood optimization failed to converge. Check mle_retvals\n",
      "  warnings.warn(\"Maximum Likelihood optimization failed to \"\n",
      "C:\\Users\\chath\\AppData\\Roaming\\Python\\Python310\\site-packages\\statsmodels\\base\\model.py:604: ConvergenceWarning: Maximum Likelihood optimization failed to converge. Check mle_retvals\n",
      "  warnings.warn(\"Maximum Likelihood optimization failed to \"\n",
      "C:\\Users\\chath\\AppData\\Roaming\\Python\\Python310\\site-packages\\statsmodels\\base\\model.py:604: ConvergenceWarning: Maximum Likelihood optimization failed to converge. Check mle_retvals\n",
      "  warnings.warn(\"Maximum Likelihood optimization failed to \"\n",
      "C:\\Users\\chath\\AppData\\Roaming\\Python\\Python310\\site-packages\\statsmodels\\base\\model.py:604: ConvergenceWarning: Maximum Likelihood optimization failed to converge. Check mle_retvals\n",
      "  warnings.warn(\"Maximum Likelihood optimization failed to \"\n",
      "C:\\Users\\chath\\AppData\\Roaming\\Python\\Python310\\site-packages\\statsmodels\\base\\model.py:604: ConvergenceWarning: Maximum Likelihood optimization failed to converge. Check mle_retvals\n",
      "  warnings.warn(\"Maximum Likelihood optimization failed to \"\n",
      "C:\\Users\\chath\\AppData\\Roaming\\Python\\Python310\\site-packages\\statsmodels\\base\\model.py:604: ConvergenceWarning: Maximum Likelihood optimization failed to converge. Check mle_retvals\n",
      "  warnings.warn(\"Maximum Likelihood optimization failed to \"\n",
      "C:\\Users\\chath\\AppData\\Roaming\\Python\\Python310\\site-packages\\statsmodels\\base\\model.py:604: ConvergenceWarning: Maximum Likelihood optimization failed to converge. Check mle_retvals\n",
      "  warnings.warn(\"Maximum Likelihood optimization failed to \"\n",
      "C:\\Users\\chath\\AppData\\Roaming\\Python\\Python310\\site-packages\\statsmodels\\base\\model.py:604: ConvergenceWarning: Maximum Likelihood optimization failed to converge. Check mle_retvals\n",
      "  warnings.warn(\"Maximum Likelihood optimization failed to \"\n",
      "C:\\Users\\chath\\AppData\\Roaming\\Python\\Python310\\site-packages\\statsmodels\\base\\model.py:604: ConvergenceWarning: Maximum Likelihood optimization failed to converge. Check mle_retvals\n",
      "  warnings.warn(\"Maximum Likelihood optimization failed to \"\n",
      "C:\\Users\\chath\\AppData\\Roaming\\Python\\Python310\\site-packages\\statsmodels\\base\\model.py:604: ConvergenceWarning: Maximum Likelihood optimization failed to converge. Check mle_retvals\n",
      "  warnings.warn(\"Maximum Likelihood optimization failed to \"\n",
      "C:\\Users\\chath\\AppData\\Roaming\\Python\\Python310\\site-packages\\statsmodels\\base\\model.py:604: ConvergenceWarning: Maximum Likelihood optimization failed to converge. Check mle_retvals\n",
      "  warnings.warn(\"Maximum Likelihood optimization failed to \"\n",
      "C:\\Users\\chath\\AppData\\Roaming\\Python\\Python310\\site-packages\\statsmodels\\base\\model.py:604: ConvergenceWarning: Maximum Likelihood optimization failed to converge. Check mle_retvals\n",
      "  warnings.warn(\"Maximum Likelihood optimization failed to \"\n",
      "C:\\Users\\chath\\AppData\\Roaming\\Python\\Python310\\site-packages\\statsmodels\\base\\model.py:604: ConvergenceWarning: Maximum Likelihood optimization failed to converge. Check mle_retvals\n",
      "  warnings.warn(\"Maximum Likelihood optimization failed to \"\n",
      "C:\\Users\\chath\\AppData\\Roaming\\Python\\Python310\\site-packages\\statsmodels\\base\\model.py:604: ConvergenceWarning: Maximum Likelihood optimization failed to converge. Check mle_retvals\n",
      "  warnings.warn(\"Maximum Likelihood optimization failed to \"\n",
      "C:\\Users\\chath\\AppData\\Roaming\\Python\\Python310\\site-packages\\statsmodels\\base\\model.py:604: ConvergenceWarning: Maximum Likelihood optimization failed to converge. Check mle_retvals\n",
      "  warnings.warn(\"Maximum Likelihood optimization failed to \"\n",
      "C:\\Users\\chath\\AppData\\Roaming\\Python\\Python310\\site-packages\\statsmodels\\base\\model.py:604: ConvergenceWarning: Maximum Likelihood optimization failed to converge. Check mle_retvals\n",
      "  warnings.warn(\"Maximum Likelihood optimization failed to \"\n",
      "C:\\Users\\chath\\AppData\\Roaming\\Python\\Python310\\site-packages\\statsmodels\\base\\model.py:604: ConvergenceWarning: Maximum Likelihood optimization failed to converge. Check mle_retvals\n",
      "  warnings.warn(\"Maximum Likelihood optimization failed to \"\n",
      "C:\\Users\\chath\\AppData\\Roaming\\Python\\Python310\\site-packages\\statsmodels\\base\\model.py:604: ConvergenceWarning: Maximum Likelihood optimization failed to converge. Check mle_retvals\n",
      "  warnings.warn(\"Maximum Likelihood optimization failed to \"\n",
      "C:\\Users\\chath\\AppData\\Roaming\\Python\\Python310\\site-packages\\statsmodels\\base\\model.py:604: ConvergenceWarning: Maximum Likelihood optimization failed to converge. Check mle_retvals\n",
      "  warnings.warn(\"Maximum Likelihood optimization failed to \"\n",
      "C:\\Users\\chath\\AppData\\Roaming\\Python\\Python310\\site-packages\\statsmodels\\base\\model.py:604: ConvergenceWarning: Maximum Likelihood optimization failed to converge. Check mle_retvals\n",
      "  warnings.warn(\"Maximum Likelihood optimization failed to \"\n",
      "C:\\Users\\chath\\AppData\\Roaming\\Python\\Python310\\site-packages\\statsmodels\\base\\model.py:604: ConvergenceWarning: Maximum Likelihood optimization failed to converge. Check mle_retvals\n",
      "  warnings.warn(\"Maximum Likelihood optimization failed to \"\n",
      "C:\\Users\\chath\\AppData\\Roaming\\Python\\Python310\\site-packages\\statsmodels\\base\\model.py:604: ConvergenceWarning: Maximum Likelihood optimization failed to converge. Check mle_retvals\n",
      "  warnings.warn(\"Maximum Likelihood optimization failed to \"\n",
      "C:\\Users\\chath\\AppData\\Roaming\\Python\\Python310\\site-packages\\statsmodels\\base\\model.py:604: ConvergenceWarning: Maximum Likelihood optimization failed to converge. Check mle_retvals\n",
      "  warnings.warn(\"Maximum Likelihood optimization failed to \"\n",
      "C:\\Users\\chath\\AppData\\Roaming\\Python\\Python310\\site-packages\\statsmodels\\base\\model.py:604: ConvergenceWarning: Maximum Likelihood optimization failed to converge. Check mle_retvals\n",
      "  warnings.warn(\"Maximum Likelihood optimization failed to \"\n",
      "C:\\Users\\chath\\AppData\\Roaming\\Python\\Python310\\site-packages\\statsmodels\\base\\model.py:604: ConvergenceWarning: Maximum Likelihood optimization failed to converge. Check mle_retvals\n",
      "  warnings.warn(\"Maximum Likelihood optimization failed to \"\n",
      "C:\\Users\\chath\\AppData\\Roaming\\Python\\Python310\\site-packages\\statsmodels\\base\\model.py:604: ConvergenceWarning: Maximum Likelihood optimization failed to converge. Check mle_retvals\n",
      "  warnings.warn(\"Maximum Likelihood optimization failed to \"\n",
      "C:\\Users\\chath\\AppData\\Roaming\\Python\\Python310\\site-packages\\statsmodels\\base\\model.py:604: ConvergenceWarning: Maximum Likelihood optimization failed to converge. Check mle_retvals\n",
      "  warnings.warn(\"Maximum Likelihood optimization failed to \"\n",
      "C:\\Users\\chath\\AppData\\Roaming\\Python\\Python310\\site-packages\\statsmodels\\base\\model.py:604: ConvergenceWarning: Maximum Likelihood optimization failed to converge. Check mle_retvals\n",
      "  warnings.warn(\"Maximum Likelihood optimization failed to \"\n",
      "C:\\Users\\chath\\AppData\\Roaming\\Python\\Python310\\site-packages\\statsmodels\\base\\model.py:604: ConvergenceWarning: Maximum Likelihood optimization failed to converge. Check mle_retvals\n",
      "  warnings.warn(\"Maximum Likelihood optimization failed to \"\n",
      "C:\\Users\\chath\\AppData\\Roaming\\Python\\Python310\\site-packages\\statsmodels\\base\\model.py:604: ConvergenceWarning: Maximum Likelihood optimization failed to converge. Check mle_retvals\n",
      "  warnings.warn(\"Maximum Likelihood optimization failed to \"\n",
      "C:\\Users\\chath\\AppData\\Roaming\\Python\\Python310\\site-packages\\statsmodels\\base\\model.py:604: ConvergenceWarning: Maximum Likelihood optimization failed to converge. Check mle_retvals\n",
      "  warnings.warn(\"Maximum Likelihood optimization failed to \"\n",
      "C:\\Users\\chath\\AppData\\Roaming\\Python\\Python310\\site-packages\\statsmodels\\base\\model.py:604: ConvergenceWarning: Maximum Likelihood optimization failed to converge. Check mle_retvals\n",
      "  warnings.warn(\"Maximum Likelihood optimization failed to \"\n",
      "C:\\Users\\chath\\AppData\\Roaming\\Python\\Python310\\site-packages\\statsmodels\\base\\model.py:604: ConvergenceWarning: Maximum Likelihood optimization failed to converge. Check mle_retvals\n",
      "  warnings.warn(\"Maximum Likelihood optimization failed to \"\n",
      "C:\\Users\\chath\\AppData\\Roaming\\Python\\Python310\\site-packages\\statsmodels\\base\\model.py:604: ConvergenceWarning: Maximum Likelihood optimization failed to converge. Check mle_retvals\n",
      "  warnings.warn(\"Maximum Likelihood optimization failed to \"\n",
      "C:\\Users\\chath\\AppData\\Roaming\\Python\\Python310\\site-packages\\statsmodels\\base\\model.py:604: ConvergenceWarning: Maximum Likelihood optimization failed to converge. Check mle_retvals\n",
      "  warnings.warn(\"Maximum Likelihood optimization failed to \"\n",
      "C:\\Users\\chath\\AppData\\Roaming\\Python\\Python310\\site-packages\\statsmodels\\base\\model.py:604: ConvergenceWarning: Maximum Likelihood optimization failed to converge. Check mle_retvals\n",
      "  warnings.warn(\"Maximum Likelihood optimization failed to \"\n",
      "C:\\Users\\chath\\AppData\\Roaming\\Python\\Python310\\site-packages\\statsmodels\\base\\model.py:604: ConvergenceWarning: Maximum Likelihood optimization failed to converge. Check mle_retvals\n",
      "  warnings.warn(\"Maximum Likelihood optimization failed to \"\n",
      "C:\\Users\\chath\\AppData\\Roaming\\Python\\Python310\\site-packages\\statsmodels\\base\\model.py:604: ConvergenceWarning: Maximum Likelihood optimization failed to converge. Check mle_retvals\n",
      "  warnings.warn(\"Maximum Likelihood optimization failed to \"\n",
      "C:\\Users\\chath\\AppData\\Roaming\\Python\\Python310\\site-packages\\statsmodels\\base\\model.py:604: ConvergenceWarning: Maximum Likelihood optimization failed to converge. Check mle_retvals\n",
      "  warnings.warn(\"Maximum Likelihood optimization failed to \"\n",
      "C:\\Users\\chath\\AppData\\Roaming\\Python\\Python310\\site-packages\\statsmodels\\base\\model.py:604: ConvergenceWarning: Maximum Likelihood optimization failed to converge. Check mle_retvals\n",
      "  warnings.warn(\"Maximum Likelihood optimization failed to \"\n",
      "C:\\Users\\chath\\AppData\\Roaming\\Python\\Python310\\site-packages\\statsmodels\\base\\model.py:604: ConvergenceWarning: Maximum Likelihood optimization failed to converge. Check mle_retvals\n",
      "  warnings.warn(\"Maximum Likelihood optimization failed to \"\n",
      "C:\\Users\\chath\\AppData\\Roaming\\Python\\Python310\\site-packages\\statsmodels\\base\\model.py:604: ConvergenceWarning: Maximum Likelihood optimization failed to converge. Check mle_retvals\n",
      "  warnings.warn(\"Maximum Likelihood optimization failed to \"\n",
      "C:\\Users\\chath\\AppData\\Roaming\\Python\\Python310\\site-packages\\statsmodels\\base\\model.py:604: ConvergenceWarning: Maximum Likelihood optimization failed to converge. Check mle_retvals\n",
      "  warnings.warn(\"Maximum Likelihood optimization failed to \"\n",
      "C:\\Users\\chath\\AppData\\Roaming\\Python\\Python310\\site-packages\\statsmodels\\base\\model.py:604: ConvergenceWarning: Maximum Likelihood optimization failed to converge. Check mle_retvals\n",
      "  warnings.warn(\"Maximum Likelihood optimization failed to \"\n",
      "C:\\Users\\chath\\AppData\\Roaming\\Python\\Python310\\site-packages\\statsmodels\\base\\model.py:604: ConvergenceWarning: Maximum Likelihood optimization failed to converge. Check mle_retvals\n",
      "  warnings.warn(\"Maximum Likelihood optimization failed to \"\n",
      "C:\\Users\\chath\\AppData\\Roaming\\Python\\Python310\\site-packages\\statsmodels\\base\\model.py:604: ConvergenceWarning: Maximum Likelihood optimization failed to converge. Check mle_retvals\n",
      "  warnings.warn(\"Maximum Likelihood optimization failed to \"\n",
      "C:\\Users\\chath\\AppData\\Roaming\\Python\\Python310\\site-packages\\statsmodels\\base\\model.py:604: ConvergenceWarning: Maximum Likelihood optimization failed to converge. Check mle_retvals\n",
      "  warnings.warn(\"Maximum Likelihood optimization failed to \"\n",
      "C:\\Users\\chath\\AppData\\Roaming\\Python\\Python310\\site-packages\\statsmodels\\base\\model.py:604: ConvergenceWarning: Maximum Likelihood optimization failed to converge. Check mle_retvals\n",
      "  warnings.warn(\"Maximum Likelihood optimization failed to \"\n",
      "C:\\Users\\chath\\AppData\\Roaming\\Python\\Python310\\site-packages\\statsmodels\\base\\model.py:604: ConvergenceWarning: Maximum Likelihood optimization failed to converge. Check mle_retvals\n",
      "  warnings.warn(\"Maximum Likelihood optimization failed to \"\n",
      "C:\\Users\\chath\\AppData\\Roaming\\Python\\Python310\\site-packages\\statsmodels\\base\\model.py:604: ConvergenceWarning: Maximum Likelihood optimization failed to converge. Check mle_retvals\n",
      "  warnings.warn(\"Maximum Likelihood optimization failed to \"\n",
      "C:\\Users\\chath\\AppData\\Roaming\\Python\\Python310\\site-packages\\statsmodels\\base\\model.py:604: ConvergenceWarning: Maximum Likelihood optimization failed to converge. Check mle_retvals\n",
      "  warnings.warn(\"Maximum Likelihood optimization failed to \"\n",
      "C:\\Users\\chath\\AppData\\Roaming\\Python\\Python310\\site-packages\\statsmodels\\base\\model.py:604: ConvergenceWarning: Maximum Likelihood optimization failed to converge. Check mle_retvals\n",
      "  warnings.warn(\"Maximum Likelihood optimization failed to \"\n"
     ]
    }
   ],
   "source": [
    "for i in pqd_combination:\n",
    "    A_model = ARIMA(df1_ts_train,order= i).fit()\n",
    "    predict = A_model.predict(len(df1_ts_train),len(df1_ts)-1)\n",
    "    e = np.sqrt(mean_squared_error(df1_ts_test,predict))\n",
    "    df_pdq.append(i)\n",
    "    df_error.append(e)"
   ]
  },
  {
   "cell_type": "code",
   "execution_count": null,
   "metadata": {
    "execution": {
     "iopub.execute_input": "2022-07-26T14:39:15.212046Z",
     "iopub.status.busy": "2022-07-26T14:39:15.211221Z",
     "iopub.status.idle": "2022-07-26T14:39:15.220338Z",
     "shell.execute_reply": "2022-07-26T14:39:15.219196Z",
     "shell.execute_reply.started": "2022-07-26T14:39:15.212000Z"
    }
   },
   "outputs": [],
   "source": [
    "min = df_error[0]\n",
    "index = 0\n",
    "for i in range(1,len(df_error)-1):\n",
    "    if(min > df_error[i]):\n",
    "        min = df_error[i]\n",
    "        index = i\n",
    "        \n",
    "print(df_error[index],' => ',df_pdq[index])"
   ]
  },
  {
   "cell_type": "code",
   "execution_count": null,
   "metadata": {
    "execution": {
     "iopub.execute_input": "2022-07-26T14:39:15.223147Z",
     "iopub.status.busy": "2022-07-26T14:39:15.222343Z",
     "iopub.status.idle": "2022-07-26T14:39:15.236293Z",
     "shell.execute_reply": "2022-07-26T14:39:15.234804Z",
     "shell.execute_reply.started": "2022-07-26T14:39:15.223103Z"
    }
   },
   "outputs": [],
   "source": [
    "import statsmodels.api as sm"
   ]
  },
  {
   "cell_type": "code",
   "execution_count": null,
   "metadata": {
    "execution": {
     "iopub.execute_input": "2022-07-26T14:39:15.239147Z",
     "iopub.status.busy": "2022-07-26T14:39:15.238317Z",
     "iopub.status.idle": "2022-07-26T14:39:17.415470Z",
     "shell.execute_reply": "2022-07-26T14:39:17.414319Z",
     "shell.execute_reply.started": "2022-07-26T14:39:15.239103Z"
    }
   },
   "outputs": [],
   "source": [
    "sarima_model = sm.tsa.statespace.SARIMAX(df1_ts_train, trend='n', order=(7,0,3), seasonal_order=(1,1,1,12))\n",
    "s_results = sarima_model.fit()\n",
    "print(s_results.summary())"
   ]
  },
  {
   "cell_type": "code",
   "execution_count": null,
   "metadata": {
    "execution": {
     "iopub.execute_input": "2022-07-26T14:39:17.418169Z",
     "iopub.status.busy": "2022-07-26T14:39:17.417338Z",
     "iopub.status.idle": "2022-07-26T14:39:17.431416Z",
     "shell.execute_reply": "2022-07-26T14:39:17.429814Z",
     "shell.execute_reply.started": "2022-07-26T14:39:17.418122Z"
    }
   },
   "outputs": [],
   "source": [
    "s_pred = s_results.predict(start = len(df1_ts_train),end = len(df1_ts)-1)"
   ]
  },
  {
   "cell_type": "code",
   "execution_count": null,
   "metadata": {
    "execution": {
     "iopub.execute_input": "2022-07-26T14:39:17.434674Z",
     "iopub.status.busy": "2022-07-26T14:39:17.433837Z",
     "iopub.status.idle": "2022-07-26T14:39:17.730867Z",
     "shell.execute_reply": "2022-07-26T14:39:17.729735Z",
     "shell.execute_reply.started": "2022-07-26T14:39:17.434628Z"
    }
   },
   "outputs": [],
   "source": [
    "plt.figure(figsize = (30,10))\n",
    "df1_ts_test.plot(label = \"Test\")\n",
    "df1_ts_train.plot(label = \"Train\")\n",
    "s_pred.plot(label = 'Predict')\n",
    "plt.legend()\n",
    "plt.show()"
   ]
  },
  {
   "cell_type": "markdown",
   "metadata": {},
   "source": [
    "# ------------------------------------- FB Prophet -------------------------------------\n",
    "\n",
    "FB prophet is using for time series forcasting . So we want to use date column and AQI bucket column only"
   ]
  },
  {
   "cell_type": "code",
   "execution_count": null,
   "metadata": {
    "execution": {
     "iopub.execute_input": "2022-07-26T14:39:17.732737Z",
     "iopub.status.busy": "2022-07-26T14:39:17.732326Z",
     "iopub.status.idle": "2022-07-26T14:39:17.738743Z",
     "shell.execute_reply": "2022-07-26T14:39:17.737773Z",
     "shell.execute_reply.started": "2022-07-26T14:39:17.732699Z"
    }
   },
   "outputs": [],
   "source": [
    "from prophet import Prophet"
   ]
  },
  {
   "cell_type": "code",
   "execution_count": null,
   "metadata": {
    "execution": {
     "iopub.execute_input": "2022-07-26T14:39:17.740703Z",
     "iopub.status.busy": "2022-07-26T14:39:17.740179Z",
     "iopub.status.idle": "2022-07-26T14:39:27.307303Z",
     "shell.execute_reply": "2022-07-26T14:39:27.306063Z",
     "shell.execute_reply.started": "2022-07-26T14:39:17.740674Z"
    }
   },
   "outputs": [],
   "source": [
    "%pip install --upgrade plotly"
   ]
  },
  {
   "cell_type": "code",
   "execution_count": null,
   "metadata": {
    "execution": {
     "iopub.execute_input": "2022-07-26T14:39:27.310275Z",
     "iopub.status.busy": "2022-07-26T14:39:27.309752Z",
     "iopub.status.idle": "2022-07-26T14:39:27.318890Z",
     "shell.execute_reply": "2022-07-26T14:39:27.318093Z",
     "shell.execute_reply.started": "2022-07-26T14:39:27.310225Z"
    }
   },
   "outputs": [],
   "source": [
    "alt_fb_df = station_day[['Date','AQI']]"
   ]
  },
  {
   "cell_type": "code",
   "execution_count": null,
   "metadata": {
    "execution": {
     "iopub.execute_input": "2022-07-26T14:39:27.320516Z",
     "iopub.status.busy": "2022-07-26T14:39:27.320224Z",
     "iopub.status.idle": "2022-07-26T14:39:27.349577Z",
     "shell.execute_reply": "2022-07-26T14:39:27.348241Z",
     "shell.execute_reply.started": "2022-07-26T14:39:27.320490Z"
    }
   },
   "outputs": [],
   "source": [
    "alt_fb_df[\"Date\"]= pd.to_datetime(alt_fb_df[\"Date\"])"
   ]
  },
  {
   "cell_type": "code",
   "execution_count": null,
   "metadata": {
    "execution": {
     "iopub.execute_input": "2022-07-26T14:39:27.351961Z",
     "iopub.status.busy": "2022-07-26T14:39:27.351250Z",
     "iopub.status.idle": "2022-07-26T14:39:27.425679Z",
     "shell.execute_reply": "2022-07-26T14:39:27.424547Z",
     "shell.execute_reply.started": "2022-07-26T14:39:27.351898Z"
    }
   },
   "outputs": [],
   "source": [
    "alt_fb_df.AQI = alt_fb_df.groupby(pd.PeriodIndex(alt_fb_df['Date'], freq=\"M\"))['AQI'].apply(lambda x: x.fillna(x.mean()))"
   ]
  },
  {
   "cell_type": "code",
   "execution_count": null,
   "metadata": {
    "execution": {
     "iopub.execute_input": "2022-07-26T14:39:27.427567Z",
     "iopub.status.busy": "2022-07-26T14:39:27.427227Z",
     "iopub.status.idle": "2022-07-26T14:39:27.433661Z",
     "shell.execute_reply": "2022-07-26T14:39:27.432623Z",
     "shell.execute_reply.started": "2022-07-26T14:39:27.427536Z"
    }
   },
   "outputs": [],
   "source": [
    "alt_fb_df = alt_fb_df.rename(columns={'Date':'ds','AQI':'y'})"
   ]
  },
  {
   "cell_type": "code",
   "execution_count": null,
   "metadata": {
    "execution": {
     "iopub.execute_input": "2022-07-26T14:39:27.435998Z",
     "iopub.status.busy": "2022-07-26T14:39:27.435546Z",
     "iopub.status.idle": "2022-07-26T14:39:27.445907Z",
     "shell.execute_reply": "2022-07-26T14:39:27.444869Z",
     "shell.execute_reply.started": "2022-07-26T14:39:27.435957Z"
    }
   },
   "outputs": [],
   "source": [
    "alt_fb_df_train = alt_fb_df[:-26108]\n",
    "alt_fb_df_test = alt_fb_df[len(alt_fb_df)-26108:]"
   ]
  },
  {
   "cell_type": "code",
   "execution_count": null,
   "metadata": {
    "execution": {
     "iopub.execute_input": "2022-07-26T14:39:27.447990Z",
     "iopub.status.busy": "2022-07-26T14:39:27.447420Z",
     "iopub.status.idle": "2022-07-26T14:41:08.303393Z",
     "shell.execute_reply": "2022-07-26T14:41:08.302180Z",
     "shell.execute_reply.started": "2022-07-26T14:39:27.447954Z"
    }
   },
   "outputs": [],
   "source": [
    "alt_fbp = Prophet(daily_seasonality = True)\n",
    "alt_fbp.fit(alt_fb_df_train)\n",
    "\n"
   ]
  },
  {
   "cell_type": "code",
   "execution_count": null,
   "metadata": {
    "execution": {
     "iopub.execute_input": "2022-07-26T14:41:08.305957Z",
     "iopub.status.busy": "2022-07-26T14:41:08.304890Z",
     "iopub.status.idle": "2022-07-26T14:41:08.314381Z",
     "shell.execute_reply": "2022-07-26T14:41:08.313343Z",
     "shell.execute_reply.started": "2022-07-26T14:41:08.305894Z"
    }
   },
   "outputs": [],
   "source": [
    "alt_future = alt_fbp.make_future_dataframe(periods=365)"
   ]
  },
  {
   "cell_type": "code",
   "execution_count": null,
   "metadata": {
    "execution": {
     "iopub.execute_input": "2022-07-26T14:41:08.323732Z",
     "iopub.status.busy": "2022-07-26T14:41:08.323094Z",
     "iopub.status.idle": "2022-07-26T14:41:12.347536Z",
     "shell.execute_reply": "2022-07-26T14:41:12.346347Z",
     "shell.execute_reply.started": "2022-07-26T14:41:08.323693Z"
    }
   },
   "outputs": [],
   "source": [
    "alt_forecast = alt_fbp.predict(alt_future)"
   ]
  },
  {
   "cell_type": "code",
   "execution_count": null,
   "metadata": {
    "execution": {
     "iopub.execute_input": "2022-07-26T14:41:12.349362Z",
     "iopub.status.busy": "2022-07-26T14:41:12.349013Z",
     "iopub.status.idle": "2022-07-26T14:41:12.976127Z",
     "shell.execute_reply": "2022-07-26T14:41:12.975201Z",
     "shell.execute_reply.started": "2022-07-26T14:41:12.349332Z"
    }
   },
   "outputs": [],
   "source": [
    "plt.figure(figsize = (30,10))\n",
    "plt.plot(alt_fb_df_train['ds'],alt_fb_df_train['y'],label = \"Train\")\n",
    "plt.plot(alt_fb_df_test['ds'],alt_fb_df_test['y'],label = \"Test\")\n",
    "plt.plot(alt_forecast['ds'],alt_forecast['yhat'],label = 'Predict')\n",
    "plt.legend()\n",
    "plt.show()\n"
   ]
  },
  {
   "cell_type": "markdown",
   "metadata": {},
   "source": [
    "# ---------------------------------------- LSTM ----------------------------------------"
   ]
  },
  {
   "cell_type": "code",
   "execution_count": null,
   "metadata": {
    "execution": {
     "iopub.execute_input": "2022-07-26T14:41:12.978381Z",
     "iopub.status.busy": "2022-07-26T14:41:12.977303Z",
     "iopub.status.idle": "2022-07-26T14:41:13.087275Z",
     "shell.execute_reply": "2022-07-26T14:41:13.086212Z",
     "shell.execute_reply.started": "2022-07-26T14:41:12.978344Z"
    }
   },
   "outputs": [],
   "source": [
    "station_day.describe()"
   ]
  },
  {
   "cell_type": "code",
   "execution_count": null,
   "metadata": {
    "execution": {
     "iopub.execute_input": "2022-07-26T14:41:13.089156Z",
     "iopub.status.busy": "2022-07-26T14:41:13.088816Z",
     "iopub.status.idle": "2022-07-26T14:41:13.093600Z",
     "shell.execute_reply": "2022-07-26T14:41:13.092430Z",
     "shell.execute_reply.started": "2022-07-26T14:41:13.089126Z"
    }
   },
   "outputs": [],
   "source": [
    "lstm_df = station_day"
   ]
  },
  {
   "cell_type": "code",
   "execution_count": null,
   "metadata": {
    "execution": {
     "iopub.execute_input": "2022-07-26T14:41:13.095881Z",
     "iopub.status.busy": "2022-07-26T14:41:13.095224Z",
     "iopub.status.idle": "2022-07-26T14:41:13.124421Z",
     "shell.execute_reply": "2022-07-26T14:41:13.123116Z",
     "shell.execute_reply.started": "2022-07-26T14:41:13.095839Z"
    }
   },
   "outputs": [],
   "source": [
    "lstm_df[\"Date\"]= pd.to_datetime(lstm_df[\"Date\"])"
   ]
  },
  {
   "cell_type": "code",
   "execution_count": null,
   "metadata": {
    "execution": {
     "iopub.execute_input": "2022-07-26T14:41:13.127302Z",
     "iopub.status.busy": "2022-07-26T14:41:13.126110Z",
     "iopub.status.idle": "2022-07-26T14:41:13.138642Z",
     "shell.execute_reply": "2022-07-26T14:41:13.137442Z",
     "shell.execute_reply.started": "2022-07-26T14:41:13.127248Z"
    }
   },
   "outputs": [],
   "source": [
    "lstm_df.drop(['AQI_Bucket', 'StationId'], axis=1, inplace=True)"
   ]
  },
  {
   "cell_type": "code",
   "execution_count": null,
   "metadata": {
    "execution": {
     "iopub.execute_input": "2022-07-26T14:41:13.141159Z",
     "iopub.status.busy": "2022-07-26T14:41:13.140027Z",
     "iopub.status.idle": "2022-07-26T14:41:13.158940Z",
     "shell.execute_reply": "2022-07-26T14:41:13.158170Z",
     "shell.execute_reply.started": "2022-07-26T14:41:13.141113Z"
    }
   },
   "outputs": [],
   "source": [
    "lstm_df=lstm_df.dropna()"
   ]
  },
  {
   "cell_type": "code",
   "execution_count": null,
   "metadata": {
    "execution": {
     "iopub.execute_input": "2022-07-26T14:41:13.161425Z",
     "iopub.status.busy": "2022-07-26T14:41:13.160258Z",
     "iopub.status.idle": "2022-07-26T14:41:13.176631Z",
     "shell.execute_reply": "2022-07-26T14:41:13.175310Z",
     "shell.execute_reply.started": "2022-07-26T14:41:13.161381Z"
    }
   },
   "outputs": [],
   "source": [
    "lstm_df.info()"
   ]
  },
  {
   "cell_type": "code",
   "execution_count": null,
   "metadata": {
    "execution": {
     "iopub.execute_input": "2022-07-26T14:41:13.179560Z",
     "iopub.status.busy": "2022-07-26T14:41:13.178707Z",
     "iopub.status.idle": "2022-07-26T14:41:13.186961Z",
     "shell.execute_reply": "2022-07-26T14:41:13.185834Z",
     "shell.execute_reply.started": "2022-07-26T14:41:13.179508Z"
    }
   },
   "outputs": [],
   "source": [
    "dates = lstm_df['Date']\n",
    "lstm_df.drop('Date', axis=1,inplace=True)"
   ]
  },
  {
   "cell_type": "code",
   "execution_count": null,
   "metadata": {
    "execution": {
     "iopub.execute_input": "2022-07-26T14:41:13.188662Z",
     "iopub.status.busy": "2022-07-26T14:41:13.188277Z",
     "iopub.status.idle": "2022-07-26T14:41:13.199990Z",
     "shell.execute_reply": "2022-07-26T14:41:13.199087Z",
     "shell.execute_reply.started": "2022-07-26T14:41:13.188628Z"
    }
   },
   "outputs": [],
   "source": [
    "x_test_df = lstm_df.drop(columns =['AQI'])\n"
   ]
  },
  {
   "cell_type": "code",
   "execution_count": null,
   "metadata": {
    "execution": {
     "iopub.execute_input": "2022-07-26T14:41:13.202451Z",
     "iopub.status.busy": "2022-07-26T14:41:13.201697Z",
     "iopub.status.idle": "2022-07-26T14:41:13.211588Z",
     "shell.execute_reply": "2022-07-26T14:41:13.210607Z",
     "shell.execute_reply.started": "2022-07-26T14:41:13.202407Z"
    }
   },
   "outputs": [],
   "source": [
    "from sklearn import preprocessing\n",
    "min_max_scaler = preprocessing.MinMaxScaler()"
   ]
  },
  {
   "cell_type": "code",
   "execution_count": null,
   "metadata": {
    "execution": {
     "iopub.execute_input": "2022-07-26T14:41:13.213752Z",
     "iopub.status.busy": "2022-07-26T14:41:13.213316Z",
     "iopub.status.idle": "2022-07-26T14:41:13.231978Z",
     "shell.execute_reply": "2022-07-26T14:41:13.230710Z",
     "shell.execute_reply.started": "2022-07-26T14:41:13.213710Z"
    }
   },
   "outputs": [],
   "source": [
    "\n",
    "col_names = []\n",
    "for i in lstm_df.columns:\n",
    "    lstm_df[i] = min_max_scaler.fit_transform(lstm_df[i].values.reshape(-1,1))\n",
    "\n",
    "\n",
    "# df['Col1_scaled'] = scaler.fit_transform(df['Col1'].values.reshape(-1,1))"
   ]
  },
  {
   "cell_type": "code",
   "execution_count": null,
   "metadata": {
    "execution": {
     "iopub.execute_input": "2022-07-26T14:41:13.233581Z",
     "iopub.status.busy": "2022-07-26T14:41:13.233131Z",
     "iopub.status.idle": "2022-07-26T14:41:13.291767Z",
     "shell.execute_reply": "2022-07-26T14:41:13.290332Z",
     "shell.execute_reply.started": "2022-07-26T14:41:13.233536Z"
    }
   },
   "outputs": [],
   "source": [
    "lstm_df.describe()"
   ]
  },
  {
   "cell_type": "code",
   "execution_count": null,
   "metadata": {
    "execution": {
     "iopub.execute_input": "2022-07-26T14:41:13.294224Z",
     "iopub.status.busy": "2022-07-26T14:41:13.293883Z",
     "iopub.status.idle": "2022-07-26T14:41:13.300706Z",
     "shell.execute_reply": "2022-07-26T14:41:13.299760Z",
     "shell.execute_reply.started": "2022-07-26T14:41:13.294194Z"
    }
   },
   "outputs": [],
   "source": [
    "x = lstm_df.drop(columns =['AQI'])\n",
    "y = lstm_df['AQI']"
   ]
  },
  {
   "cell_type": "code",
   "execution_count": null,
   "metadata": {
    "execution": {
     "iopub.execute_input": "2022-07-26T14:41:13.302924Z",
     "iopub.status.busy": "2022-07-26T14:41:13.301966Z",
     "iopub.status.idle": "2022-07-26T14:41:13.316127Z",
     "shell.execute_reply": "2022-07-26T14:41:13.315103Z",
     "shell.execute_reply.started": "2022-07-26T14:41:13.302880Z"
    }
   },
   "outputs": [],
   "source": [
    "dates = np.array(dates)\n",
    "dates"
   ]
  },
  {
   "cell_type": "code",
   "execution_count": null,
   "metadata": {
    "execution": {
     "iopub.execute_input": "2022-07-26T14:41:13.318177Z",
     "iopub.status.busy": "2022-07-26T14:41:13.317463Z",
     "iopub.status.idle": "2022-07-26T14:41:13.329202Z",
     "shell.execute_reply": "2022-07-26T14:41:13.328060Z",
     "shell.execute_reply.started": "2022-07-26T14:41:13.318140Z"
    }
   },
   "outputs": [],
   "source": [
    "x = np.array(x)\n",
    "x = np.reshape(x, (x.shape[0], x.shape[1], 1))"
   ]
  },
  {
   "cell_type": "code",
   "execution_count": null,
   "metadata": {
    "execution": {
     "iopub.execute_input": "2022-07-26T14:41:13.331056Z",
     "iopub.status.busy": "2022-07-26T14:41:13.330297Z",
     "iopub.status.idle": "2022-07-26T14:41:13.341194Z",
     "shell.execute_reply": "2022-07-26T14:41:13.340320Z",
     "shell.execute_reply.started": "2022-07-26T14:41:13.331021Z"
    }
   },
   "outputs": [],
   "source": [
    "y = np.array(y)\n",
    "y = y.reshape(-1,)"
   ]
  },
  {
   "cell_type": "code",
   "execution_count": null,
   "metadata": {
    "execution": {
     "iopub.execute_input": "2022-07-26T14:41:13.343607Z",
     "iopub.status.busy": "2022-07-26T14:41:13.342500Z",
     "iopub.status.idle": "2022-07-26T14:41:13.352031Z",
     "shell.execute_reply": "2022-07-26T14:41:13.350967Z",
     "shell.execute_reply.started": "2022-07-26T14:41:13.343567Z"
    }
   },
   "outputs": [],
   "source": [
    "dates_train, x_train, y_train = dates[:8500], x[:8500], y[:8500]\n",
    "dates_test, x_test, y_test = dates[8500:], x[8500:], y[8500:]"
   ]
  },
  {
   "cell_type": "code",
   "execution_count": null,
   "metadata": {
    "execution": {
     "iopub.execute_input": "2022-07-26T14:41:13.355079Z",
     "iopub.status.busy": "2022-07-26T14:41:13.353773Z",
     "iopub.status.idle": "2022-07-26T14:41:13.363653Z",
     "shell.execute_reply": "2022-07-26T14:41:13.362620Z",
     "shell.execute_reply.started": "2022-07-26T14:41:13.355035Z"
    }
   },
   "outputs": [],
   "source": [
    "x_test.shape"
   ]
  },
  {
   "cell_type": "code",
   "execution_count": null,
   "metadata": {
    "execution": {
     "iopub.execute_input": "2022-07-26T14:41:13.365796Z",
     "iopub.status.busy": "2022-07-26T14:41:13.364944Z",
     "iopub.status.idle": "2022-07-26T14:41:14.042350Z",
     "shell.execute_reply": "2022-07-26T14:41:14.041099Z",
     "shell.execute_reply.started": "2022-07-26T14:41:13.365760Z"
    }
   },
   "outputs": [],
   "source": [
    "from keras.models import Sequential\n",
    "from keras.layers import Dense\n",
    "from keras.layers import LSTM\n",
    "from keras.layers import Dropout\n",
    "from keras.layers import InputLayer\n",
    "\n",
    "model_lstm = Sequential()\n",
    "\n",
    "model_lstm.add(InputLayer((12,1)))\n",
    "\n",
    "model_lstm.add(LSTM(50,return_sequences=True))\n",
    "\n",
    "model_lstm.add(LSTM(34 ,return_sequences=True))\n",
    "model_lstm.add(Dropout(0.25))\n",
    "\n",
    "model_lstm.add(LSTM(15))\n",
    "\n",
    "model_lstm.add(Dense(1 ,'linear' ))"
   ]
  },
  {
   "cell_type": "code",
   "execution_count": null,
   "metadata": {
    "execution": {
     "iopub.execute_input": "2022-07-26T14:41:14.044766Z",
     "iopub.status.busy": "2022-07-26T14:41:14.044128Z",
     "iopub.status.idle": "2022-07-26T14:41:14.051243Z",
     "shell.execute_reply": "2022-07-26T14:41:14.050104Z",
     "shell.execute_reply.started": "2022-07-26T14:41:14.044719Z"
    }
   },
   "outputs": [],
   "source": [
    "model_lstm.summary()"
   ]
  },
  {
   "cell_type": "code",
   "execution_count": null,
   "metadata": {
    "execution": {
     "iopub.execute_input": "2022-07-26T14:41:14.053506Z",
     "iopub.status.busy": "2022-07-26T14:41:14.052575Z",
     "iopub.status.idle": "2022-07-26T14:41:14.070509Z",
     "shell.execute_reply": "2022-07-26T14:41:14.069652Z",
     "shell.execute_reply.started": "2022-07-26T14:41:14.053473Z"
    }
   },
   "outputs": [],
   "source": [
    "model_lstm.compile(\n",
    "    optimizer = 'adam',\n",
    "    loss = 'mse',\n",
    "    metrics = ['accuracy']\n",
    ")"
   ]
  },
  {
   "cell_type": "code",
   "execution_count": null,
   "metadata": {
    "execution": {
     "iopub.execute_input": "2022-07-26T14:41:14.072410Z",
     "iopub.status.busy": "2022-07-26T14:41:14.071783Z",
     "iopub.status.idle": "2022-07-26T14:42:08.136023Z",
     "shell.execute_reply": "2022-07-26T14:42:08.134980Z",
     "shell.execute_reply.started": "2022-07-26T14:41:14.072365Z"
    }
   },
   "outputs": [],
   "source": [
    "lstm_history = model_lstm.fit(x_train,y_train,validation_split=0.33 , epochs = 10)"
   ]
  },
  {
   "cell_type": "code",
   "execution_count": null,
   "metadata": {
    "execution": {
     "iopub.execute_input": "2022-07-26T14:42:08.138420Z",
     "iopub.status.busy": "2022-07-26T14:42:08.138079Z",
     "iopub.status.idle": "2022-07-26T14:42:09.721959Z",
     "shell.execute_reply": "2022-07-26T14:42:09.721011Z",
     "shell.execute_reply.started": "2022-07-26T14:42:08.138390Z"
    }
   },
   "outputs": [],
   "source": [
    "lstm_y_pred = model_lstm.predict(x_test)"
   ]
  },
  {
   "cell_type": "code",
   "execution_count": null,
   "metadata": {
    "execution": {
     "iopub.execute_input": "2022-07-26T14:42:09.723488Z",
     "iopub.status.busy": "2022-07-26T14:42:09.723176Z",
     "iopub.status.idle": "2022-07-26T14:42:09.729405Z",
     "shell.execute_reply": "2022-07-26T14:42:09.728339Z",
     "shell.execute_reply.started": "2022-07-26T14:42:09.723461Z"
    }
   },
   "outputs": [],
   "source": [
    "lstm_y_pred =lstm_y_pred.reshape(-1,)"
   ]
  },
  {
   "cell_type": "code",
   "execution_count": null,
   "metadata": {
    "execution": {
     "iopub.execute_input": "2022-07-26T14:42:09.731632Z",
     "iopub.status.busy": "2022-07-26T14:42:09.730968Z",
     "iopub.status.idle": "2022-07-26T14:42:09.742216Z",
     "shell.execute_reply": "2022-07-26T14:42:09.741220Z",
     "shell.execute_reply.started": "2022-07-26T14:42:09.731594Z"
    }
   },
   "outputs": [],
   "source": [
    "type(lstm_y_pred)"
   ]
  },
  {
   "cell_type": "code",
   "execution_count": null,
   "metadata": {
    "execution": {
     "iopub.execute_input": "2022-07-26T14:42:09.744187Z",
     "iopub.status.busy": "2022-07-26T14:42:09.743406Z",
     "iopub.status.idle": "2022-07-26T14:42:09.752962Z",
     "shell.execute_reply": "2022-07-26T14:42:09.751784Z",
     "shell.execute_reply.started": "2022-07-26T14:42:09.744145Z"
    }
   },
   "outputs": [],
   "source": [
    "minimo = 8.000000\n",
    "maximo = 2049.000000"
   ]
  },
  {
   "cell_type": "code",
   "execution_count": null,
   "metadata": {
    "execution": {
     "iopub.execute_input": "2022-07-26T14:42:09.755527Z",
     "iopub.status.busy": "2022-07-26T14:42:09.754712Z",
     "iopub.status.idle": "2022-07-26T14:42:09.764994Z",
     "shell.execute_reply": "2022-07-26T14:42:09.763933Z",
     "shell.execute_reply.started": "2022-07-26T14:42:09.755477Z"
    }
   },
   "outputs": [],
   "source": [
    "new_lstm_y_pred=lstm_y_pred * minimo + (maximo - minimo)"
   ]
  },
  {
   "cell_type": "code",
   "execution_count": null,
   "metadata": {
    "execution": {
     "iopub.execute_input": "2022-07-26T14:42:09.766782Z",
     "iopub.status.busy": "2022-07-26T14:42:09.766382Z",
     "iopub.status.idle": "2022-07-26T14:42:09.777662Z",
     "shell.execute_reply": "2022-07-26T14:42:09.776728Z",
     "shell.execute_reply.started": "2022-07-26T14:42:09.766749Z"
    }
   },
   "outputs": [],
   "source": [
    "np.min(new_lstm_y_pred)"
   ]
  },
  {
   "cell_type": "code",
   "execution_count": null,
   "metadata": {
    "execution": {
     "iopub.execute_input": "2022-07-26T14:42:09.779591Z",
     "iopub.status.busy": "2022-07-26T14:42:09.779249Z",
     "iopub.status.idle": "2022-07-26T14:42:09.785783Z",
     "shell.execute_reply": "2022-07-26T14:42:09.784507Z",
     "shell.execute_reply.started": "2022-07-26T14:42:09.779561Z"
    }
   },
   "outputs": [],
   "source": [
    "# x_test_df[lstm_y_pred] = lstm_y_pred"
   ]
  },
  {
   "cell_type": "code",
   "execution_count": null,
   "metadata": {
    "execution": {
     "iopub.execute_input": "2022-07-26T14:42:09.788465Z",
     "iopub.status.busy": "2022-07-26T14:42:09.787392Z",
     "iopub.status.idle": "2022-07-26T14:42:09.798827Z",
     "shell.execute_reply": "2022-07-26T14:42:09.797364Z",
     "shell.execute_reply.started": "2022-07-26T14:42:09.788427Z"
    }
   },
   "outputs": [],
   "source": [
    "x_test_df.shape"
   ]
  },
  {
   "cell_type": "code",
   "execution_count": null,
   "metadata": {
    "execution": {
     "iopub.execute_input": "2022-07-26T14:42:09.801341Z",
     "iopub.status.busy": "2022-07-26T14:42:09.800741Z",
     "iopub.status.idle": "2022-07-26T14:42:09.808743Z",
     "shell.execute_reply": "2022-07-26T14:42:09.807959Z",
     "shell.execute_reply.started": "2022-07-26T14:42:09.801299Z"
    }
   },
   "outputs": [],
   "source": [
    "# lstm_y_pred=lstm_y_pred.reshape(-1,)"
   ]
  },
  {
   "cell_type": "code",
   "execution_count": null,
   "metadata": {
    "execution": {
     "iopub.execute_input": "2022-07-26T14:42:09.810440Z",
     "iopub.status.busy": "2022-07-26T14:42:09.810082Z",
     "iopub.status.idle": "2022-07-26T14:42:09.819782Z",
     "shell.execute_reply": "2022-07-26T14:42:09.818870Z",
     "shell.execute_reply.started": "2022-07-26T14:42:09.810406Z"
    }
   },
   "outputs": [],
   "source": [
    "# lstm_y_pred = (lstm_y_pred-np.min(lstm_y_pred))/(np.max(lstm_y_pred)-np.min(lstm_y_pred))"
   ]
  },
  {
   "cell_type": "code",
   "execution_count": null,
   "metadata": {
    "execution": {
     "iopub.execute_input": "2022-07-26T14:42:09.822038Z",
     "iopub.status.busy": "2022-07-26T14:42:09.821626Z",
     "iopub.status.idle": "2022-07-26T14:42:09.833091Z",
     "shell.execute_reply": "2022-07-26T14:42:09.831408Z",
     "shell.execute_reply.started": "2022-07-26T14:42:09.822005Z"
    }
   },
   "outputs": [],
   "source": [
    "# lstm_y_pred"
   ]
  },
  {
   "cell_type": "code",
   "execution_count": null,
   "metadata": {
    "execution": {
     "iopub.execute_input": "2022-07-26T14:42:09.834952Z",
     "iopub.status.busy": "2022-07-26T14:42:09.834573Z",
     "iopub.status.idle": "2022-07-26T14:42:09.844662Z",
     "shell.execute_reply": "2022-07-26T14:42:09.843413Z",
     "shell.execute_reply.started": "2022-07-26T14:42:09.834891Z"
    }
   },
   "outputs": [],
   "source": [
    "# x_test.shape"
   ]
  },
  {
   "cell_type": "code",
   "execution_count": null,
   "metadata": {
    "execution": {
     "iopub.execute_input": "2022-07-26T14:42:09.847139Z",
     "iopub.status.busy": "2022-07-26T14:42:09.846202Z",
     "iopub.status.idle": "2022-07-26T14:42:09.857543Z",
     "shell.execute_reply": "2022-07-26T14:42:09.856312Z",
     "shell.execute_reply.started": "2022-07-26T14:42:09.847102Z"
    }
   },
   "outputs": [],
   "source": [
    "# new_min_max_scaler = preprocessing.MinMaxScaler()"
   ]
  },
  {
   "cell_type": "code",
   "execution_count": null,
   "metadata": {
    "execution": {
     "iopub.execute_input": "2022-07-26T14:42:09.862343Z",
     "iopub.status.busy": "2022-07-26T14:42:09.861739Z",
     "iopub.status.idle": "2022-07-26T14:42:09.868860Z",
     "shell.execute_reply": "2022-07-26T14:42:09.867587Z",
     "shell.execute_reply.started": "2022-07-26T14:42:09.862308Z"
    }
   },
   "outputs": [],
   "source": [
    "# lstm_y_pred=lstm_y_pred.reshape(-1,)"
   ]
  },
  {
   "cell_type": "code",
   "execution_count": null,
   "metadata": {
    "execution": {
     "iopub.execute_input": "2022-07-26T14:42:09.871289Z",
     "iopub.status.busy": "2022-07-26T14:42:09.870171Z",
     "iopub.status.idle": "2022-07-26T14:42:09.880427Z",
     "shell.execute_reply": "2022-07-26T14:42:09.879089Z",
     "shell.execute_reply.started": "2022-07-26T14:42:09.871253Z"
    }
   },
   "outputs": [],
   "source": [
    "# x_test.shape"
   ]
  },
  {
   "cell_type": "code",
   "execution_count": null,
   "metadata": {
    "execution": {
     "iopub.execute_input": "2022-07-26T14:42:09.882362Z",
     "iopub.status.busy": "2022-07-26T14:42:09.881699Z",
     "iopub.status.idle": "2022-07-26T14:42:09.891132Z",
     "shell.execute_reply": "2022-07-26T14:42:09.890076Z",
     "shell.execute_reply.started": "2022-07-26T14:42:09.882327Z"
    }
   },
   "outputs": [],
   "source": [
    "# lstm_y_pred = pd.DataFrame(lstm_y_pred) "
   ]
  },
  {
   "cell_type": "code",
   "execution_count": null,
   "metadata": {
    "execution": {
     "iopub.execute_input": "2022-07-26T14:42:09.892968Z",
     "iopub.status.busy": "2022-07-26T14:42:09.892552Z",
     "iopub.status.idle": "2022-07-26T14:42:09.903432Z",
     "shell.execute_reply": "2022-07-26T14:42:09.901879Z",
     "shell.execute_reply.started": "2022-07-26T14:42:09.892926Z"
    }
   },
   "outputs": [],
   "source": [
    "# x_test_df = x_test_df.assign(lstm_y_pred=lstm_y_pred)"
   ]
  },
  {
   "cell_type": "code",
   "execution_count": null,
   "metadata": {
    "execution": {
     "iopub.execute_input": "2022-07-26T14:42:09.906150Z",
     "iopub.status.busy": "2022-07-26T14:42:09.905330Z",
     "iopub.status.idle": "2022-07-26T14:42:09.916533Z",
     "shell.execute_reply": "2022-07-26T14:42:09.915246Z",
     "shell.execute_reply.started": "2022-07-26T14:42:09.906103Z"
    }
   },
   "outputs": [],
   "source": [
    "# x_test_df[lstm_y_pred] = lstm_y_pred"
   ]
  },
  {
   "cell_type": "code",
   "execution_count": null,
   "metadata": {
    "execution": {
     "iopub.execute_input": "2022-07-26T14:42:09.918125Z",
     "iopub.status.busy": "2022-07-26T14:42:09.917767Z",
     "iopub.status.idle": "2022-07-26T14:42:09.928220Z",
     "shell.execute_reply": "2022-07-26T14:42:09.926789Z",
     "shell.execute_reply.started": "2022-07-26T14:42:09.918093Z"
    }
   },
   "outputs": [],
   "source": [
    "# lstm_pred_df = x_test_df.merge(lstm_y_pred) "
   ]
  },
  {
   "cell_type": "code",
   "execution_count": null,
   "metadata": {
    "execution": {
     "iopub.execute_input": "2022-07-26T14:42:09.932384Z",
     "iopub.status.busy": "2022-07-26T14:42:09.931631Z",
     "iopub.status.idle": "2022-07-26T14:42:09.938166Z",
     "shell.execute_reply": "2022-07-26T14:42:09.937312Z",
     "shell.execute_reply.started": "2022-07-26T14:42:09.932331Z"
    }
   },
   "outputs": [],
   "source": [
    "# lstm_y_pred=min_max_scaler.inverse_transform(lstm_y_pred)"
   ]
  },
  {
   "cell_type": "code",
   "execution_count": null,
   "metadata": {
    "execution": {
     "iopub.execute_input": "2022-07-26T14:42:09.940823Z",
     "iopub.status.busy": "2022-07-26T14:42:09.940015Z",
     "iopub.status.idle": "2022-07-26T14:42:09.954968Z",
     "shell.execute_reply": "2022-07-26T14:42:09.952770Z",
     "shell.execute_reply.started": "2022-07-26T14:42:09.940776Z"
    }
   },
   "outputs": [],
   "source": [
    "# lstm_y_pred"
   ]
  },
  {
   "cell_type": "code",
   "execution_count": null,
   "metadata": {
    "execution": {
     "iopub.execute_input": "2022-07-26T14:42:09.960426Z",
     "iopub.status.busy": "2022-07-26T14:42:09.959316Z",
     "iopub.status.idle": "2022-07-26T14:42:10.298430Z",
     "shell.execute_reply": "2022-07-26T14:42:10.297185Z",
     "shell.execute_reply.started": "2022-07-26T14:42:09.960375Z"
    }
   },
   "outputs": [],
   "source": [
    "plt.figure(figsize = (30,10))\n",
    "plt.plot(dates_train[-210:],y_train[-210:],label = \"Train\")\n",
    "plt.plot(dates_test[:100],y_test[:100],label = \"Test\")\n",
    "plt.plot(dates_test[:100],lstm_y_pred[:100],label = 'Predict')\n",
    "plt.legend()\n",
    "plt.show()\n"
   ]
  },
  {
   "cell_type": "markdown",
   "metadata": {},
   "source": [
    "# ----------------------------------------- GRU ----------------------------------------"
   ]
  },
  {
   "cell_type": "code",
   "execution_count": null,
   "metadata": {
    "execution": {
     "iopub.execute_input": "2022-07-26T14:42:10.299863Z",
     "iopub.status.busy": "2022-07-26T14:42:10.299566Z",
     "iopub.status.idle": "2022-07-26T14:42:10.879274Z",
     "shell.execute_reply": "2022-07-26T14:42:10.878001Z",
     "shell.execute_reply.started": "2022-07-26T14:42:10.299837Z"
    }
   },
   "outputs": [],
   "source": [
    "from keras.models import Sequential\n",
    "from keras.layers import Dense\n",
    "from keras.layers import GRU\n",
    "from keras.layers import Dropout\n",
    "from keras.layers import InputLayer\n",
    "\n",
    "model_gru = Sequential()\n",
    "\n",
    "model_gru.add(InputLayer((12,1)))\n",
    "\n",
    "model_gru.add(GRU(50,return_sequences=True))\n",
    "\n",
    "model_gru.add(GRU(26 ,return_sequences=True))\n",
    "# model_lstm.add(Dropout(0.25))\n",
    "\n",
    "model_gru.add(GRU(10))\n",
    "\n",
    "model_gru.add(Dense(1,'linear' ))\n"
   ]
  },
  {
   "cell_type": "code",
   "execution_count": null,
   "metadata": {
    "execution": {
     "iopub.execute_input": "2022-07-26T14:42:10.881187Z",
     "iopub.status.busy": "2022-07-26T14:42:10.880720Z",
     "iopub.status.idle": "2022-07-26T14:42:10.888370Z",
     "shell.execute_reply": "2022-07-26T14:42:10.887206Z",
     "shell.execute_reply.started": "2022-07-26T14:42:10.881156Z"
    }
   },
   "outputs": [],
   "source": [
    "model_gru.summary()"
   ]
  },
  {
   "cell_type": "code",
   "execution_count": null,
   "metadata": {
    "execution": {
     "iopub.execute_input": "2022-07-26T14:42:10.890346Z",
     "iopub.status.busy": "2022-07-26T14:42:10.889864Z",
     "iopub.status.idle": "2022-07-26T14:42:10.906073Z",
     "shell.execute_reply": "2022-07-26T14:42:10.905080Z",
     "shell.execute_reply.started": "2022-07-26T14:42:10.890299Z"
    }
   },
   "outputs": [],
   "source": [
    "model_gru.compile(\n",
    "    optimizer = 'adam',\n",
    "    loss = 'mse',\n",
    "    metrics = ['accuracy']\n",
    ")"
   ]
  },
  {
   "cell_type": "code",
   "execution_count": null,
   "metadata": {
    "execution": {
     "iopub.execute_input": "2022-07-26T14:42:10.908224Z",
     "iopub.status.busy": "2022-07-26T14:42:10.907282Z",
     "iopub.status.idle": "2022-07-26T14:43:14.729153Z",
     "shell.execute_reply": "2022-07-26T14:43:14.728166Z",
     "shell.execute_reply.started": "2022-07-26T14:42:10.908178Z"
    }
   },
   "outputs": [],
   "source": [
    "gru_history = model_gru.fit(x_train,y_train,validation_split=0.33 , epochs = 10)"
   ]
  },
  {
   "cell_type": "code",
   "execution_count": null,
   "metadata": {
    "execution": {
     "iopub.execute_input": "2022-07-26T14:43:14.731372Z",
     "iopub.status.busy": "2022-07-26T14:43:14.730826Z",
     "iopub.status.idle": "2022-07-26T14:43:15.401583Z",
     "shell.execute_reply": "2022-07-26T14:43:15.400794Z",
     "shell.execute_reply.started": "2022-07-26T14:43:14.731337Z"
    }
   },
   "outputs": [],
   "source": [
    "model_gru.evaluate(x_test, y_test)"
   ]
  },
  {
   "cell_type": "code",
   "execution_count": null,
   "metadata": {
    "execution": {
     "iopub.execute_input": "2022-07-26T14:43:15.405452Z",
     "iopub.status.busy": "2022-07-26T14:43:15.405120Z",
     "iopub.status.idle": "2022-07-26T14:43:17.063795Z",
     "shell.execute_reply": "2022-07-26T14:43:17.062887Z",
     "shell.execute_reply.started": "2022-07-26T14:43:15.405419Z"
    }
   },
   "outputs": [],
   "source": [
    "gru_y_pred = model_gru.predict(x_test)"
   ]
  },
  {
   "cell_type": "code",
   "execution_count": null,
   "metadata": {
    "execution": {
     "iopub.execute_input": "2022-07-26T14:43:17.065298Z",
     "iopub.status.busy": "2022-07-26T14:43:17.064820Z",
     "iopub.status.idle": "2022-07-26T14:43:18.668471Z",
     "shell.execute_reply": "2022-07-26T14:43:18.667303Z",
     "shell.execute_reply.started": "2022-07-26T14:43:17.065253Z"
    }
   },
   "outputs": [],
   "source": [
    "plt.figure(figsize = (30,10))\n",
    "plt.plot(dates_train[-210:],y_train[-210:],label = \"Train\")\n",
    "plt.plot(dates_test[:100],y_test[:100],label = \"Test\")\n",
    "plt.plot(dates_test[:100],gru_y_pred[:100],label = 'Predict')\n",
    "plt.legend()\n",
    "plt.show()\n"
   ]
  },
  {
   "cell_type": "markdown",
   "metadata": {},
   "source": [
    "# ***Root Mean Squared Error***"
   ]
  },
  {
   "cell_type": "code",
   "execution_count": null,
   "metadata": {
    "execution": {
     "iopub.execute_input": "2022-07-26T14:43:18.670061Z",
     "iopub.status.busy": "2022-07-26T14:43:18.669729Z",
     "iopub.status.idle": "2022-07-26T14:43:18.676360Z",
     "shell.execute_reply": "2022-07-26T14:43:18.674740Z",
     "shell.execute_reply.started": "2022-07-26T14:43:18.670030Z"
    }
   },
   "outputs": [],
   "source": [
    "from sklearn.metrics import mean_squared_error"
   ]
  },
  {
   "cell_type": "code",
   "execution_count": null,
   "metadata": {
    "execution": {
     "iopub.execute_input": "2022-07-26T14:43:18.678616Z",
     "iopub.status.busy": "2022-07-26T14:43:18.678161Z",
     "iopub.status.idle": "2022-07-26T14:43:18.691031Z",
     "shell.execute_reply": "2022-07-26T14:43:18.689766Z",
     "shell.execute_reply.started": "2022-07-26T14:43:18.678580Z"
    }
   },
   "outputs": [],
   "source": [
    "arima_RMSE = mean_squared_error(ts_test,arima_predict[:17])\n",
    "sarima_RMSE = mean_squared_error(df1_ts_test,s_pred)\n",
    "# fbpropet_RMSE = mean_squared_error(alt_fb_df_test,alt_forecast)\n",
    "lstm_RMSE = mean_squared_error(y_test,lstm_y_pred)\n",
    "gru_RMSE = mean_squared_error(y_test, gru_y_pred)"
   ]
  },
  {
   "cell_type": "code",
   "execution_count": null,
   "metadata": {
    "execution": {
     "iopub.execute_input": "2022-07-26T14:43:18.705268Z",
     "iopub.status.busy": "2022-07-26T14:43:18.704189Z",
     "iopub.status.idle": "2022-07-26T14:43:18.711417Z",
     "shell.execute_reply": "2022-07-26T14:43:18.710200Z",
     "shell.execute_reply.started": "2022-07-26T14:43:18.705224Z"
    }
   },
   "outputs": [],
   "source": [
    "print(\"arima_RMSE => \", arima_RMSE**0.5)\n",
    "print(\"sarima_RMSE => \", sarima_RMSE**0.5)\n",
    "print(\"lstm_RMSE => \", lstm_RMSE**0.5)\n",
    "print(\"gru_RMSE => \", gru_RMSE**0.5)"
   ]
  },
  {
   "cell_type": "markdown",
   "metadata": {},
   "source": [
    "# ***Mean Relative Error***"
   ]
  },
  {
   "cell_type": "markdown",
   "metadata": {},
   "source": [
    "# ***Mean Absolute Percentage Error***"
   ]
  },
  {
   "cell_type": "code",
   "execution_count": null,
   "metadata": {
    "execution": {
     "iopub.execute_input": "2022-07-26T14:43:18.713567Z",
     "iopub.status.busy": "2022-07-26T14:43:18.712948Z",
     "iopub.status.idle": "2022-07-26T14:43:18.723253Z",
     "shell.execute_reply": "2022-07-26T14:43:18.722260Z",
     "shell.execute_reply.started": "2022-07-26T14:43:18.713522Z"
    }
   },
   "outputs": [],
   "source": [
    "from sklearn.metrics import mean_absolute_percentage_error"
   ]
  },
  {
   "cell_type": "code",
   "execution_count": null,
   "metadata": {
    "execution": {
     "iopub.execute_input": "2022-07-26T14:43:18.725391Z",
     "iopub.status.busy": "2022-07-26T14:43:18.724652Z",
     "iopub.status.idle": "2022-07-26T14:43:18.738049Z",
     "shell.execute_reply": "2022-07-26T14:43:18.736981Z",
     "shell.execute_reply.started": "2022-07-26T14:43:18.725345Z"
    }
   },
   "outputs": [],
   "source": [
    "arima_MAPE = mean_absolute_percentage_error(ts_test,arima_predict[:17])\n",
    "sarima_MAPE = mean_absolute_percentage_error(df1_ts_test,s_pred)\n",
    "# fbpropet_RMSE = mean_squared_error(alt_fb_df_test,alt_forecast)\n",
    "lstm_MAPE = mean_absolute_percentage_error(y_test,lstm_y_pred)\n",
    "gru_MAPE = mean_absolute_percentage_error(y_test, gru_y_pred)"
   ]
  },
  {
   "cell_type": "code",
   "execution_count": null,
   "metadata": {
    "execution": {
     "iopub.execute_input": "2022-07-26T14:43:18.739688Z",
     "iopub.status.busy": "2022-07-26T14:43:18.739384Z",
     "iopub.status.idle": "2022-07-26T14:43:18.753740Z",
     "shell.execute_reply": "2022-07-26T14:43:18.752727Z",
     "shell.execute_reply.started": "2022-07-26T14:43:18.739661Z"
    }
   },
   "outputs": [],
   "source": [
    "print(\"arima_MAPE => \", arima_MAPE)\n",
    "print(\"sarima_MAPE => \", sarima_MAPE)\n",
    "print(\"lstm_MAPE => \", lstm_MAPE)\n",
    "print(\"gru_MAPE => \", gru_MAPE)"
   ]
  },
  {
   "cell_type": "markdown",
   "metadata": {},
   "source": [
    "# ***Mean Squared Error***"
   ]
  },
  {
   "cell_type": "code",
   "execution_count": null,
   "metadata": {
    "execution": {
     "iopub.execute_input": "2022-07-26T14:43:18.755095Z",
     "iopub.status.busy": "2022-07-26T14:43:18.754724Z",
     "iopub.status.idle": "2022-07-26T14:43:18.764648Z",
     "shell.execute_reply": "2022-07-26T14:43:18.763186Z",
     "shell.execute_reply.started": "2022-07-26T14:43:18.755064Z"
    }
   },
   "outputs": [],
   "source": [
    "from sklearn.metrics import mean_squared_error"
   ]
  },
  {
   "cell_type": "code",
   "execution_count": null,
   "metadata": {
    "execution": {
     "iopub.execute_input": "2022-07-26T14:43:18.767061Z",
     "iopub.status.busy": "2022-07-26T14:43:18.766572Z",
     "iopub.status.idle": "2022-07-26T14:43:18.780445Z",
     "shell.execute_reply": "2022-07-26T14:43:18.779216Z",
     "shell.execute_reply.started": "2022-07-26T14:43:18.767014Z"
    }
   },
   "outputs": [],
   "source": [
    "arima_RMSE = mean_squared_error(ts_test,arima_predict[:17])\n",
    "sarima_RMSE = mean_squared_error(df1_ts_test,s_pred)\n",
    "# fbpropet_RMSE = mean_squared_error(alt_fb_df_test,alt_forecast)\n",
    "lstm_RMSE = mean_squared_error(y_test,lstm_y_pred)\n",
    "gru_RMSE = mean_squared_error(y_test, gru_y_pred)"
   ]
  },
  {
   "cell_type": "code",
   "execution_count": null,
   "metadata": {
    "execution": {
     "iopub.execute_input": "2022-07-26T14:43:18.783084Z",
     "iopub.status.busy": "2022-07-26T14:43:18.782015Z",
     "iopub.status.idle": "2022-07-26T14:43:18.795458Z",
     "shell.execute_reply": "2022-07-26T14:43:18.794234Z",
     "shell.execute_reply.started": "2022-07-26T14:43:18.783048Z"
    }
   },
   "outputs": [],
   "source": [
    "print(\"arima_MSE => \", arima_RMSE)\n",
    "print(\"sarima_MSE => \", sarima_RMSE)\n",
    "print(\"lstm_MSE => \", lstm_RMSE)\n",
    "print(\"gru_MSE => \", gru_RMSE)"
   ]
  },
  {
   "cell_type": "markdown",
   "metadata": {},
   "source": [
    "# ***Mean Absolute Error***"
   ]
  },
  {
   "cell_type": "code",
   "execution_count": null,
   "metadata": {
    "execution": {
     "iopub.execute_input": "2022-07-26T14:43:18.797349Z",
     "iopub.status.busy": "2022-07-26T14:43:18.796975Z",
     "iopub.status.idle": "2022-07-26T14:43:18.805299Z",
     "shell.execute_reply": "2022-07-26T14:43:18.804372Z",
     "shell.execute_reply.started": "2022-07-26T14:43:18.797308Z"
    }
   },
   "outputs": [],
   "source": [
    "from sklearn.metrics import mean_absolute_error"
   ]
  },
  {
   "cell_type": "code",
   "execution_count": null,
   "metadata": {
    "execution": {
     "iopub.execute_input": "2022-07-26T14:43:18.808170Z",
     "iopub.status.busy": "2022-07-26T14:43:18.807271Z",
     "iopub.status.idle": "2022-07-26T14:43:18.820264Z",
     "shell.execute_reply": "2022-07-26T14:43:18.819209Z",
     "shell.execute_reply.started": "2022-07-26T14:43:18.808090Z"
    }
   },
   "outputs": [],
   "source": [
    "arima_MAE = mean_absolute_error(ts_test,arima_predict[:17])\n",
    "sarima_MAE = mean_absolute_error(df1_ts_test,s_pred)\n",
    "# fbpropet_RMSE = mean_squared_error(alt_fb_df_test,alt_forecast)\n",
    "lstm_MAE = mean_absolute_error(y_test,lstm_y_pred)\n",
    "gru_MAE = mean_absolute_error(y_test, gru_y_pred)"
   ]
  },
  {
   "cell_type": "code",
   "execution_count": null,
   "metadata": {
    "execution": {
     "iopub.execute_input": "2022-07-26T14:43:18.824240Z",
     "iopub.status.busy": "2022-07-26T14:43:18.821778Z",
     "iopub.status.idle": "2022-07-26T14:43:18.832076Z",
     "shell.execute_reply": "2022-07-26T14:43:18.830268Z",
     "shell.execute_reply.started": "2022-07-26T14:43:18.824190Z"
    }
   },
   "outputs": [],
   "source": [
    "print(\"arima_MAE => \", arima_MAE)\n",
    "print(\"sarima_MAE => \", sarima_MAE)\n",
    "print(\"lstm_MAE => \", lstm_MAE)\n",
    "print(\"gru_MAE => \", gru_MAE)"
   ]
  },
  {
   "cell_type": "markdown",
   "metadata": {},
   "source": [
    "# ***Root Relative Squared Error***"
   ]
  },
  {
   "cell_type": "markdown",
   "metadata": {},
   "source": [
    "# ***Mean Relative Error***"
   ]
  },
  {
   "cell_type": "markdown",
   "metadata": {},
   "source": [
    "# ------------------------------------ LSTM / GRU ------------------------------------"
   ]
  },
  {
   "cell_type": "code",
   "execution_count": null,
   "metadata": {
    "execution": {
     "iopub.execute_input": "2022-07-26T14:43:18.834759Z",
     "iopub.status.busy": "2022-07-26T14:43:18.833775Z",
     "iopub.status.idle": "2022-07-26T14:43:18.842539Z",
     "shell.execute_reply": "2022-07-26T14:43:18.841443Z",
     "shell.execute_reply.started": "2022-07-26T14:43:18.834712Z"
    }
   },
   "outputs": [],
   "source": [
    "dates_train, x_train, y_train = dates[:1500], x[:1500], y[:1500]\n",
    "dates_test, x_test, y_test = dates[1500:], x[1500:], y[1500:]"
   ]
  },
  {
   "cell_type": "code",
   "execution_count": null,
   "metadata": {
    "execution": {
     "iopub.execute_input": "2022-07-26T14:43:18.844570Z",
     "iopub.status.busy": "2022-07-26T14:43:18.843867Z",
     "iopub.status.idle": "2022-07-26T14:43:19.918983Z",
     "shell.execute_reply": "2022-07-26T14:43:19.917779Z",
     "shell.execute_reply.started": "2022-07-26T14:43:18.844522Z"
    }
   },
   "outputs": [],
   "source": [
    "# from keras.models import Sequential\n",
    "# from keras.layers import Dense\n",
    "# from keras.layers import GRU\n",
    "# from keras.layers import Dropout\n",
    "# from keras.layers import InputLayer\n",
    "\n",
    "lstm_gru = Sequential()\n",
    "\n",
    "lstm_gru.add(InputLayer((12,1)))\n",
    "\n",
    "lstm_gru.add(LSTM(50,return_sequences=True))\n",
    "lstm_gru.add(GRU(45,return_sequences=True))\n",
    "lstm_gru.add(GRU(26,return_sequences=True))\n",
    "lstm_gru.add(LSTM(10,return_sequences=True))\n",
    "lstm_gru.add(LSTM(3))\n",
    "\n",
    "lstm_gru.add(Dense(1 ))"
   ]
  },
  {
   "cell_type": "code",
   "execution_count": null,
   "metadata": {
    "execution": {
     "iopub.execute_input": "2022-07-26T14:43:19.920761Z",
     "iopub.status.busy": "2022-07-26T14:43:19.920432Z",
     "iopub.status.idle": "2022-07-26T14:43:19.925740Z",
     "shell.execute_reply": "2022-07-26T14:43:19.924640Z",
     "shell.execute_reply.started": "2022-07-26T14:43:19.920731Z"
    }
   },
   "outputs": [],
   "source": [
    "# lstm_gru = keras.Sequential([\n",
    "#     keras.layers.InputLayer(input_shape = (12,1)),\n",
    "#     keras.layers.LSTM(50,return_sequences=True),\n",
    "#     keras.layers.GRU(35),\n",
    "#     keras.layers.Dense(50 , activation = \"relu\"),\n",
    "#     keras.layers.Dense(27 , activation = \"relu\"),\n",
    "#     keras.layers.Dense(12 , activation = \"relu\"),\n",
    "#     keras.layers.Dense(1 , activation = \"linear\"),\n",
    "# ])\n"
   ]
  },
  {
   "cell_type": "code",
   "execution_count": null,
   "metadata": {
    "execution": {
     "iopub.execute_input": "2022-07-26T14:43:19.927580Z",
     "iopub.status.busy": "2022-07-26T14:43:19.927248Z",
     "iopub.status.idle": "2022-07-26T14:43:19.942978Z",
     "shell.execute_reply": "2022-07-26T14:43:19.942146Z",
     "shell.execute_reply.started": "2022-07-26T14:43:19.927549Z"
    }
   },
   "outputs": [],
   "source": [
    "lstm_gru.summary()"
   ]
  },
  {
   "cell_type": "code",
   "execution_count": null,
   "metadata": {
    "execution": {
     "iopub.execute_input": "2022-07-26T14:43:19.945833Z",
     "iopub.status.busy": "2022-07-26T14:43:19.944805Z",
     "iopub.status.idle": "2022-07-26T14:43:19.969324Z",
     "shell.execute_reply": "2022-07-26T14:43:19.968520Z",
     "shell.execute_reply.started": "2022-07-26T14:43:19.945788Z"
    }
   },
   "outputs": [],
   "source": [
    "lstm_gru.compile(\n",
    "    optimizer = 'adam',\n",
    "    loss = 'mse',\n",
    "    metrics = ['accuracy']\n",
    ")"
   ]
  },
  {
   "cell_type": "code",
   "execution_count": null,
   "metadata": {
    "execution": {
     "iopub.execute_input": "2022-07-26T14:43:19.971677Z",
     "iopub.status.busy": "2022-07-26T14:43:19.970596Z",
     "iopub.status.idle": "2022-07-26T14:43:46.797549Z",
     "shell.execute_reply": "2022-07-26T14:43:46.796470Z",
     "shell.execute_reply.started": "2022-07-26T14:43:19.971633Z"
    }
   },
   "outputs": [],
   "source": [
    "lstm_gru_history = lstm_gru.fit(x_train,y_train, epochs = 10)"
   ]
  },
  {
   "cell_type": "code",
   "execution_count": null,
   "metadata": {
    "execution": {
     "iopub.execute_input": "2022-07-26T14:43:46.799683Z",
     "iopub.status.busy": "2022-07-26T14:43:46.799239Z",
     "iopub.status.idle": "2022-07-26T14:43:52.212485Z",
     "shell.execute_reply": "2022-07-26T14:43:52.211596Z",
     "shell.execute_reply.started": "2022-07-26T14:43:46.799638Z"
    }
   },
   "outputs": [],
   "source": [
    "lstm_gru.evaluate(x_test, y_test)"
   ]
  },
  {
   "cell_type": "code",
   "execution_count": null,
   "metadata": {
    "execution": {
     "iopub.execute_input": "2022-07-26T14:43:52.214551Z",
     "iopub.status.busy": "2022-07-26T14:43:52.214007Z",
     "iopub.status.idle": "2022-07-26T14:43:57.054639Z",
     "shell.execute_reply": "2022-07-26T14:43:57.053363Z",
     "shell.execute_reply.started": "2022-07-26T14:43:52.214520Z"
    }
   },
   "outputs": [],
   "source": [
    "lstm_gru_y_pred = lstm_gru.predict(x_test)"
   ]
  },
  {
   "cell_type": "code",
   "execution_count": null,
   "metadata": {
    "execution": {
     "iopub.execute_input": "2022-07-26T14:43:57.056667Z",
     "iopub.status.busy": "2022-07-26T14:43:57.056347Z",
     "iopub.status.idle": "2022-07-26T14:43:57.295246Z",
     "shell.execute_reply": "2022-07-26T14:43:57.294136Z",
     "shell.execute_reply.started": "2022-07-26T14:43:57.056637Z"
    }
   },
   "outputs": [],
   "source": [
    "plt.figure(figsize = (30,10))\n",
    "plt.plot(dates_train[-210:],y_train[-210:],label = \"Train\")\n",
    "plt.plot(dates_test[:100],y_test[:100],label = \"Test\")\n",
    "plt.plot(dates_test[:100],lstm_gru_y_pred[:100],label = 'Predict')\n",
    "plt.legend()\n",
    "plt.show()\n"
   ]
  },
  {
   "cell_type": "markdown",
   "metadata": {},
   "source": [
    "# ***Mean Squared Error***"
   ]
  },
  {
   "cell_type": "code",
   "execution_count": null,
   "metadata": {},
   "outputs": [],
   "source": [
    "from sklearn.metrics import mean_squared_error"
   ]
  },
  {
   "cell_type": "code",
   "execution_count": null,
   "metadata": {},
   "outputs": [],
   "source": [
    "lstm_gru_MSE = mean_squared_error(y_test, lstm_gru_y_pred)"
   ]
  },
  {
   "cell_type": "code",
   "execution_count": null,
   "metadata": {},
   "outputs": [],
   "source": [
    "print(\"lstm_gru_MSE => \", lstm_gru_MSE)"
   ]
  },
  {
   "cell_type": "markdown",
   "metadata": {},
   "source": [
    "# ***Root Mean Squared Error***"
   ]
  },
  {
   "cell_type": "code",
   "execution_count": null,
   "metadata": {},
   "outputs": [],
   "source": [
    "print(\"lstm_gru_RMSE => \", lstm_gru_MSE**0.5)"
   ]
  }
 ],
 "metadata": {
  "kernelspec": {
   "display_name": "Python 3.10.5 64-bit",
   "language": "python",
   "name": "python3"
  },
  "language_info": {
   "codemirror_mode": {
    "name": "ipython",
    "version": 3
   },
   "file_extension": ".py",
   "mimetype": "text/x-python",
   "name": "python",
   "nbconvert_exporter": "python",
   "pygments_lexer": "ipython3",
   "version": "3.10.5"
  },
  "vscode": {
   "interpreter": {
    "hash": "26de051ba29f2982a8de78e945f0abaf191376122a1563185a90213a26c5da77"
   }
  }
 },
 "nbformat": 4,
 "nbformat_minor": 4
}
